{
 "cells": [
  {
   "metadata": {
    "ExecuteTime": {
     "end_time": "2025-04-04T20:03:43.665255Z",
     "start_time": "2025-04-04T20:03:43.659578Z"
    }
   },
   "cell_type": "code",
   "source": [
    "import pandas as pd\n",
    "from matplotlib import pyplot as plt\n",
    "import seaborn as sns\n",
    "import statistics as st"
   ],
   "id": "9e14d7b8a25e40be",
   "outputs": [],
   "execution_count": 1
  },
  {
   "metadata": {},
   "cell_type": "markdown",
   "source": "Exercise 1.2",
   "id": "6d8b8efe4d4b21bb"
  },
  {
   "cell_type": "code",
   "id": "initial_id",
   "metadata": {
    "collapsed": true,
    "ExecuteTime": {
     "end_time": "2025-04-03T14:35:32.596097Z",
     "start_time": "2025-04-03T14:35:32.570165Z"
    }
   },
   "source": [
    "average_wind = pd.DataFrame(\n",
    "    {'avg_speed': [8.9, 7.1, 9.1, 8.8, 10.2, 12.4, 11.8, 10.9, 12.7, 10.3, 8.6, 10.7, 10.3, 8.4, 7.7, 11.3, 7.6, 9.6, 7.8, 10.6, 9.2, 9.1, 7.8, 5.7, 8.3, 8.8, 9.2, 11.5, 10.5, 8.8, 8.2, 9.3, 10.5, 9.5, 6.2, 9, 7.9, 9.6, 8.8, 7, 8.7, 8.8, 8.9, 9.4,35.1]}\n",
    ")\n",
    "average_wind"
   ],
   "outputs": [
    {
     "data": {
      "text/plain": [
       "    avg_speed\n",
       "0         8.9\n",
       "1         7.1\n",
       "2         9.1\n",
       "3         8.8\n",
       "4        10.2\n",
       "5        12.4\n",
       "6        11.8\n",
       "7        10.9\n",
       "8        12.7\n",
       "9        10.3\n",
       "10        8.6\n",
       "11       10.7\n",
       "12       10.3\n",
       "13        8.4\n",
       "14        7.7\n",
       "15       11.3\n",
       "16        7.6\n",
       "17        9.6\n",
       "18        7.8\n",
       "19       10.6\n",
       "20        9.2\n",
       "21        9.1\n",
       "22        7.8\n",
       "23        5.7\n",
       "24        8.3\n",
       "25        8.8\n",
       "26        9.2\n",
       "27       11.5\n",
       "28       10.5\n",
       "29        8.8\n",
       "30        8.2\n",
       "31        9.3\n",
       "32       10.5\n",
       "33        9.5\n",
       "34        6.2\n",
       "35        9.0\n",
       "36        7.9\n",
       "37        9.6\n",
       "38        8.8\n",
       "39        7.0\n",
       "40        8.7\n",
       "41        8.8\n",
       "42        8.9\n",
       "43        9.4\n",
       "44       35.1"
      ],
      "text/html": [
       "<div>\n",
       "<style scoped>\n",
       "    .dataframe tbody tr th:only-of-type {\n",
       "        vertical-align: middle;\n",
       "    }\n",
       "\n",
       "    .dataframe tbody tr th {\n",
       "        vertical-align: top;\n",
       "    }\n",
       "\n",
       "    .dataframe thead th {\n",
       "        text-align: right;\n",
       "    }\n",
       "</style>\n",
       "<table border=\"1\" class=\"dataframe\">\n",
       "  <thead>\n",
       "    <tr style=\"text-align: right;\">\n",
       "      <th></th>\n",
       "      <th>avg_speed</th>\n",
       "    </tr>\n",
       "  </thead>\n",
       "  <tbody>\n",
       "    <tr>\n",
       "      <th>0</th>\n",
       "      <td>8.9</td>\n",
       "    </tr>\n",
       "    <tr>\n",
       "      <th>1</th>\n",
       "      <td>7.1</td>\n",
       "    </tr>\n",
       "    <tr>\n",
       "      <th>2</th>\n",
       "      <td>9.1</td>\n",
       "    </tr>\n",
       "    <tr>\n",
       "      <th>3</th>\n",
       "      <td>8.8</td>\n",
       "    </tr>\n",
       "    <tr>\n",
       "      <th>4</th>\n",
       "      <td>10.2</td>\n",
       "    </tr>\n",
       "    <tr>\n",
       "      <th>5</th>\n",
       "      <td>12.4</td>\n",
       "    </tr>\n",
       "    <tr>\n",
       "      <th>6</th>\n",
       "      <td>11.8</td>\n",
       "    </tr>\n",
       "    <tr>\n",
       "      <th>7</th>\n",
       "      <td>10.9</td>\n",
       "    </tr>\n",
       "    <tr>\n",
       "      <th>8</th>\n",
       "      <td>12.7</td>\n",
       "    </tr>\n",
       "    <tr>\n",
       "      <th>9</th>\n",
       "      <td>10.3</td>\n",
       "    </tr>\n",
       "    <tr>\n",
       "      <th>10</th>\n",
       "      <td>8.6</td>\n",
       "    </tr>\n",
       "    <tr>\n",
       "      <th>11</th>\n",
       "      <td>10.7</td>\n",
       "    </tr>\n",
       "    <tr>\n",
       "      <th>12</th>\n",
       "      <td>10.3</td>\n",
       "    </tr>\n",
       "    <tr>\n",
       "      <th>13</th>\n",
       "      <td>8.4</td>\n",
       "    </tr>\n",
       "    <tr>\n",
       "      <th>14</th>\n",
       "      <td>7.7</td>\n",
       "    </tr>\n",
       "    <tr>\n",
       "      <th>15</th>\n",
       "      <td>11.3</td>\n",
       "    </tr>\n",
       "    <tr>\n",
       "      <th>16</th>\n",
       "      <td>7.6</td>\n",
       "    </tr>\n",
       "    <tr>\n",
       "      <th>17</th>\n",
       "      <td>9.6</td>\n",
       "    </tr>\n",
       "    <tr>\n",
       "      <th>18</th>\n",
       "      <td>7.8</td>\n",
       "    </tr>\n",
       "    <tr>\n",
       "      <th>19</th>\n",
       "      <td>10.6</td>\n",
       "    </tr>\n",
       "    <tr>\n",
       "      <th>20</th>\n",
       "      <td>9.2</td>\n",
       "    </tr>\n",
       "    <tr>\n",
       "      <th>21</th>\n",
       "      <td>9.1</td>\n",
       "    </tr>\n",
       "    <tr>\n",
       "      <th>22</th>\n",
       "      <td>7.8</td>\n",
       "    </tr>\n",
       "    <tr>\n",
       "      <th>23</th>\n",
       "      <td>5.7</td>\n",
       "    </tr>\n",
       "    <tr>\n",
       "      <th>24</th>\n",
       "      <td>8.3</td>\n",
       "    </tr>\n",
       "    <tr>\n",
       "      <th>25</th>\n",
       "      <td>8.8</td>\n",
       "    </tr>\n",
       "    <tr>\n",
       "      <th>26</th>\n",
       "      <td>9.2</td>\n",
       "    </tr>\n",
       "    <tr>\n",
       "      <th>27</th>\n",
       "      <td>11.5</td>\n",
       "    </tr>\n",
       "    <tr>\n",
       "      <th>28</th>\n",
       "      <td>10.5</td>\n",
       "    </tr>\n",
       "    <tr>\n",
       "      <th>29</th>\n",
       "      <td>8.8</td>\n",
       "    </tr>\n",
       "    <tr>\n",
       "      <th>30</th>\n",
       "      <td>8.2</td>\n",
       "    </tr>\n",
       "    <tr>\n",
       "      <th>31</th>\n",
       "      <td>9.3</td>\n",
       "    </tr>\n",
       "    <tr>\n",
       "      <th>32</th>\n",
       "      <td>10.5</td>\n",
       "    </tr>\n",
       "    <tr>\n",
       "      <th>33</th>\n",
       "      <td>9.5</td>\n",
       "    </tr>\n",
       "    <tr>\n",
       "      <th>34</th>\n",
       "      <td>6.2</td>\n",
       "    </tr>\n",
       "    <tr>\n",
       "      <th>35</th>\n",
       "      <td>9.0</td>\n",
       "    </tr>\n",
       "    <tr>\n",
       "      <th>36</th>\n",
       "      <td>7.9</td>\n",
       "    </tr>\n",
       "    <tr>\n",
       "      <th>37</th>\n",
       "      <td>9.6</td>\n",
       "    </tr>\n",
       "    <tr>\n",
       "      <th>38</th>\n",
       "      <td>8.8</td>\n",
       "    </tr>\n",
       "    <tr>\n",
       "      <th>39</th>\n",
       "      <td>7.0</td>\n",
       "    </tr>\n",
       "    <tr>\n",
       "      <th>40</th>\n",
       "      <td>8.7</td>\n",
       "    </tr>\n",
       "    <tr>\n",
       "      <th>41</th>\n",
       "      <td>8.8</td>\n",
       "    </tr>\n",
       "    <tr>\n",
       "      <th>42</th>\n",
       "      <td>8.9</td>\n",
       "    </tr>\n",
       "    <tr>\n",
       "      <th>43</th>\n",
       "      <td>9.4</td>\n",
       "    </tr>\n",
       "    <tr>\n",
       "      <th>44</th>\n",
       "      <td>35.1</td>\n",
       "    </tr>\n",
       "  </tbody>\n",
       "</table>\n",
       "</div>"
      ]
     },
     "execution_count": 26,
     "metadata": {},
     "output_type": "execute_result"
    }
   ],
   "execution_count": 26
  },
  {
   "metadata": {
    "ExecuteTime": {
     "end_time": "2025-04-03T14:18:12.265376Z",
     "start_time": "2025-04-03T14:18:11.720231Z"
    }
   },
   "cell_type": "code",
   "source": "sns.histplot(x=average_wind['avg_speed'], bins=8, stat='probability')",
   "id": "fcccb655f2778d70",
   "outputs": [
    {
     "data": {
      "text/plain": [
       "<Axes: xlabel='avg_speed', ylabel='Probability'>"
      ]
     },
     "execution_count": 4,
     "metadata": {},
     "output_type": "execute_result"
    },
    {
     "data": {
      "text/plain": [
       "<Figure size 640x480 with 1 Axes>"
      ],
      "image/png": "[encoded data removed]"
     },
     "metadata": {},
     "output_type": "display_data"
    }
   ],
   "execution_count": 4
  },
  {
   "metadata": {},
   "cell_type": "markdown",
   "source": "Exercise 1.3",
   "id": "f839274fb70d1440"
  },
  {
   "metadata": {
    "ExecuteTime": {
     "end_time": "2025-04-03T14:18:12.611599Z",
     "start_time": "2025-04-03T14:18:12.591945Z"
    }
   },
   "cell_type": "code",
   "source": [
    "u_238= pd.DataFrame({'picocuries_per_gram': [0.74, 0.32, 1.66, 3.59, 4.55, 6.47, 9.99, 0.7, 0.37, 0.76, 1.9, 1.77, 2.42, 1.09, 2.03, 2.69, 2.41, 0.54, 8.32, 5.7, 0.75, 1.96, 3.36, 4.06, 12.48]})\n",
    "u_238"
   ],
   "id": "82261bfb55fb31c9",
   "outputs": [
    {
     "data": {
      "text/plain": [
       "    picocuries_per_gram\n",
       "0                  0.74\n",
       "1                  0.32\n",
       "2                  1.66\n",
       "3                  3.59\n",
       "4                  4.55\n",
       "5                  6.47\n",
       "6                  9.99\n",
       "7                  0.70\n",
       "8                  0.37\n",
       "9                  0.76\n",
       "10                 1.90\n",
       "11                 1.77\n",
       "12                 2.42\n",
       "13                 1.09\n",
       "14                 2.03\n",
       "15                 2.69\n",
       "16                 2.41\n",
       "17                 0.54\n",
       "18                 8.32\n",
       "19                 5.70\n",
       "20                 0.75\n",
       "21                 1.96\n",
       "22                 3.36\n",
       "23                 4.06\n",
       "24                12.48"
      ],
      "text/html": [
       "<div>\n",
       "<style scoped>\n",
       "    .dataframe tbody tr th:only-of-type {\n",
       "        vertical-align: middle;\n",
       "    }\n",
       "\n",
       "    .dataframe tbody tr th {\n",
       "        vertical-align: top;\n",
       "    }\n",
       "\n",
       "    .dataframe thead th {\n",
       "        text-align: right;\n",
       "    }\n",
       "</style>\n",
       "<table border=\"1\" class=\"dataframe\">\n",
       "  <thead>\n",
       "    <tr style=\"text-align: right;\">\n",
       "      <th></th>\n",
       "      <th>picocuries_per_gram</th>\n",
       "    </tr>\n",
       "  </thead>\n",
       "  <tbody>\n",
       "    <tr>\n",
       "      <th>0</th>\n",
       "      <td>0.74</td>\n",
       "    </tr>\n",
       "    <tr>\n",
       "      <th>1</th>\n",
       "      <td>0.32</td>\n",
       "    </tr>\n",
       "    <tr>\n",
       "      <th>2</th>\n",
       "      <td>1.66</td>\n",
       "    </tr>\n",
       "    <tr>\n",
       "      <th>3</th>\n",
       "      <td>3.59</td>\n",
       "    </tr>\n",
       "    <tr>\n",
       "      <th>4</th>\n",
       "      <td>4.55</td>\n",
       "    </tr>\n",
       "    <tr>\n",
       "      <th>5</th>\n",
       "      <td>6.47</td>\n",
       "    </tr>\n",
       "    <tr>\n",
       "      <th>6</th>\n",
       "      <td>9.99</td>\n",
       "    </tr>\n",
       "    <tr>\n",
       "      <th>7</th>\n",
       "      <td>0.70</td>\n",
       "    </tr>\n",
       "    <tr>\n",
       "      <th>8</th>\n",
       "      <td>0.37</td>\n",
       "    </tr>\n",
       "    <tr>\n",
       "      <th>9</th>\n",
       "      <td>0.76</td>\n",
       "    </tr>\n",
       "    <tr>\n",
       "      <th>10</th>\n",
       "      <td>1.90</td>\n",
       "    </tr>\n",
       "    <tr>\n",
       "      <th>11</th>\n",
       "      <td>1.77</td>\n",
       "    </tr>\n",
       "    <tr>\n",
       "      <th>12</th>\n",
       "      <td>2.42</td>\n",
       "    </tr>\n",
       "    <tr>\n",
       "      <th>13</th>\n",
       "      <td>1.09</td>\n",
       "    </tr>\n",
       "    <tr>\n",
       "      <th>14</th>\n",
       "      <td>2.03</td>\n",
       "    </tr>\n",
       "    <tr>\n",
       "      <th>15</th>\n",
       "      <td>2.69</td>\n",
       "    </tr>\n",
       "    <tr>\n",
       "      <th>16</th>\n",
       "      <td>2.41</td>\n",
       "    </tr>\n",
       "    <tr>\n",
       "      <th>17</th>\n",
       "      <td>0.54</td>\n",
       "    </tr>\n",
       "    <tr>\n",
       "      <th>18</th>\n",
       "      <td>8.32</td>\n",
       "    </tr>\n",
       "    <tr>\n",
       "      <th>19</th>\n",
       "      <td>5.70</td>\n",
       "    </tr>\n",
       "    <tr>\n",
       "      <th>20</th>\n",
       "      <td>0.75</td>\n",
       "    </tr>\n",
       "    <tr>\n",
       "      <th>21</th>\n",
       "      <td>1.96</td>\n",
       "    </tr>\n",
       "    <tr>\n",
       "      <th>22</th>\n",
       "      <td>3.36</td>\n",
       "    </tr>\n",
       "    <tr>\n",
       "      <th>23</th>\n",
       "      <td>4.06</td>\n",
       "    </tr>\n",
       "    <tr>\n",
       "      <th>24</th>\n",
       "      <td>12.48</td>\n",
       "    </tr>\n",
       "  </tbody>\n",
       "</table>\n",
       "</div>"
      ]
     },
     "execution_count": 5,
     "metadata": {},
     "output_type": "execute_result"
    }
   ],
   "execution_count": 5
  },
  {
   "metadata": {
    "ExecuteTime": {
     "end_time": "2025-04-03T14:18:13.664026Z",
     "start_time": "2025-04-03T14:18:13.292191Z"
    }
   },
   "cell_type": "code",
   "source": "sns.histplot(x=u_238['picocuries_per_gram'], bins=14    , stat='probability')",
   "id": "5cb2ee0f2f878aba",
   "outputs": [
    {
     "data": {
      "text/plain": [
       "<Axes: xlabel='picocuries_per_gram', ylabel='Probability'>"
      ]
     },
     "execution_count": 6,
     "metadata": {},
     "output_type": "execute_result"
    },
    {
     "data": {
      "text/plain": [
       "<Figure size 640x480 with 1 Axes>"
      ],
      "image/png": "[encoded data removed]"
     },
     "metadata": {},
     "output_type": "display_data"
    }
   ],
   "execution_count": 6
  },
  {
   "metadata": {},
   "cell_type": "markdown",
   "source": "**Interpretation**: it is most probable that we have an amount of radioactive from 0 to 2.026 most of the time with probability more of 0.5",
   "id": "4b97bbed7fe89284"
  },
  {
   "metadata": {},
   "cell_type": "markdown",
   "source": "# Exercise 1.4",
   "id": "11d4dfa8a1a6aa2b"
  },
  {
   "metadata": {
    "ExecuteTime": {
     "end_time": "2025-04-03T14:18:14.005318Z",
     "start_time": "2025-04-03T14:18:13.987043Z"
    }
   },
   "cell_type": "code",
   "source": [
    "percent_shares = pd.DataFrame({'percentage': [11.88, 7.99, 7.15, 7.13, 6.27, 6.07, 5.98, 5.91, 5.49, 5.26, 5.07, 4.94, 4.81, 4.79, 4.55, 4.43, 4.4, 4.05, 3.94, 3.93, 3.78, 3.69, 3.62, 3.48, 3.44, 3.36, 3.26, 3.2, 3.11, 3.03, 2.99, 2.89, 2.88, 2.74, 2.74, 2.69, 2.68, 2.63, 2.62, 2.61]})\n",
    "percent_shares"
   ],
   "id": "32d0b440860aeb6d",
   "outputs": [
    {
     "data": {
      "text/plain": [
       "    percentage\n",
       "0        11.88\n",
       "1         7.99\n",
       "2         7.15\n",
       "3         7.13\n",
       "4         6.27\n",
       "5         6.07\n",
       "6         5.98\n",
       "7         5.91\n",
       "8         5.49\n",
       "9         5.26\n",
       "10        5.07\n",
       "11        4.94\n",
       "12        4.81\n",
       "13        4.79\n",
       "14        4.55\n",
       "15        4.43\n",
       "16        4.40\n",
       "17        4.05\n",
       "18        3.94\n",
       "19        3.93\n",
       "20        3.78\n",
       "21        3.69\n",
       "22        3.62\n",
       "23        3.48\n",
       "24        3.44\n",
       "25        3.36\n",
       "26        3.26\n",
       "27        3.20\n",
       "28        3.11\n",
       "29        3.03\n",
       "30        2.99\n",
       "31        2.89\n",
       "32        2.88\n",
       "33        2.74\n",
       "34        2.74\n",
       "35        2.69\n",
       "36        2.68\n",
       "37        2.63\n",
       "38        2.62\n",
       "39        2.61"
      ],
      "text/html": [
       "<div>\n",
       "<style scoped>\n",
       "    .dataframe tbody tr th:only-of-type {\n",
       "        vertical-align: middle;\n",
       "    }\n",
       "\n",
       "    .dataframe tbody tr th {\n",
       "        vertical-align: top;\n",
       "    }\n",
       "\n",
       "    .dataframe thead th {\n",
       "        text-align: right;\n",
       "    }\n",
       "</style>\n",
       "<table border=\"1\" class=\"dataframe\">\n",
       "  <thead>\n",
       "    <tr style=\"text-align: right;\">\n",
       "      <th></th>\n",
       "      <th>percentage</th>\n",
       "    </tr>\n",
       "  </thead>\n",
       "  <tbody>\n",
       "    <tr>\n",
       "      <th>0</th>\n",
       "      <td>11.88</td>\n",
       "    </tr>\n",
       "    <tr>\n",
       "      <th>1</th>\n",
       "      <td>7.99</td>\n",
       "    </tr>\n",
       "    <tr>\n",
       "      <th>2</th>\n",
       "      <td>7.15</td>\n",
       "    </tr>\n",
       "    <tr>\n",
       "      <th>3</th>\n",
       "      <td>7.13</td>\n",
       "    </tr>\n",
       "    <tr>\n",
       "      <th>4</th>\n",
       "      <td>6.27</td>\n",
       "    </tr>\n",
       "    <tr>\n",
       "      <th>5</th>\n",
       "      <td>6.07</td>\n",
       "    </tr>\n",
       "    <tr>\n",
       "      <th>6</th>\n",
       "      <td>5.98</td>\n",
       "    </tr>\n",
       "    <tr>\n",
       "      <th>7</th>\n",
       "      <td>5.91</td>\n",
       "    </tr>\n",
       "    <tr>\n",
       "      <th>8</th>\n",
       "      <td>5.49</td>\n",
       "    </tr>\n",
       "    <tr>\n",
       "      <th>9</th>\n",
       "      <td>5.26</td>\n",
       "    </tr>\n",
       "    <tr>\n",
       "      <th>10</th>\n",
       "      <td>5.07</td>\n",
       "    </tr>\n",
       "    <tr>\n",
       "      <th>11</th>\n",
       "      <td>4.94</td>\n",
       "    </tr>\n",
       "    <tr>\n",
       "      <th>12</th>\n",
       "      <td>4.81</td>\n",
       "    </tr>\n",
       "    <tr>\n",
       "      <th>13</th>\n",
       "      <td>4.79</td>\n",
       "    </tr>\n",
       "    <tr>\n",
       "      <th>14</th>\n",
       "      <td>4.55</td>\n",
       "    </tr>\n",
       "    <tr>\n",
       "      <th>15</th>\n",
       "      <td>4.43</td>\n",
       "    </tr>\n",
       "    <tr>\n",
       "      <th>16</th>\n",
       "      <td>4.40</td>\n",
       "    </tr>\n",
       "    <tr>\n",
       "      <th>17</th>\n",
       "      <td>4.05</td>\n",
       "    </tr>\n",
       "    <tr>\n",
       "      <th>18</th>\n",
       "      <td>3.94</td>\n",
       "    </tr>\n",
       "    <tr>\n",
       "      <th>19</th>\n",
       "      <td>3.93</td>\n",
       "    </tr>\n",
       "    <tr>\n",
       "      <th>20</th>\n",
       "      <td>3.78</td>\n",
       "    </tr>\n",
       "    <tr>\n",
       "      <th>21</th>\n",
       "      <td>3.69</td>\n",
       "    </tr>\n",
       "    <tr>\n",
       "      <th>22</th>\n",
       "      <td>3.62</td>\n",
       "    </tr>\n",
       "    <tr>\n",
       "      <th>23</th>\n",
       "      <td>3.48</td>\n",
       "    </tr>\n",
       "    <tr>\n",
       "      <th>24</th>\n",
       "      <td>3.44</td>\n",
       "    </tr>\n",
       "    <tr>\n",
       "      <th>25</th>\n",
       "      <td>3.36</td>\n",
       "    </tr>\n",
       "    <tr>\n",
       "      <th>26</th>\n",
       "      <td>3.26</td>\n",
       "    </tr>\n",
       "    <tr>\n",
       "      <th>27</th>\n",
       "      <td>3.20</td>\n",
       "    </tr>\n",
       "    <tr>\n",
       "      <th>28</th>\n",
       "      <td>3.11</td>\n",
       "    </tr>\n",
       "    <tr>\n",
       "      <th>29</th>\n",
       "      <td>3.03</td>\n",
       "    </tr>\n",
       "    <tr>\n",
       "      <th>30</th>\n",
       "      <td>2.99</td>\n",
       "    </tr>\n",
       "    <tr>\n",
       "      <th>31</th>\n",
       "      <td>2.89</td>\n",
       "    </tr>\n",
       "    <tr>\n",
       "      <th>32</th>\n",
       "      <td>2.88</td>\n",
       "    </tr>\n",
       "    <tr>\n",
       "      <th>33</th>\n",
       "      <td>2.74</td>\n",
       "    </tr>\n",
       "    <tr>\n",
       "      <th>34</th>\n",
       "      <td>2.74</td>\n",
       "    </tr>\n",
       "    <tr>\n",
       "      <th>35</th>\n",
       "      <td>2.69</td>\n",
       "    </tr>\n",
       "    <tr>\n",
       "      <th>36</th>\n",
       "      <td>2.68</td>\n",
       "    </tr>\n",
       "    <tr>\n",
       "      <th>37</th>\n",
       "      <td>2.63</td>\n",
       "    </tr>\n",
       "    <tr>\n",
       "      <th>38</th>\n",
       "      <td>2.62</td>\n",
       "    </tr>\n",
       "    <tr>\n",
       "      <th>39</th>\n",
       "      <td>2.61</td>\n",
       "    </tr>\n",
       "  </tbody>\n",
       "</table>\n",
       "</div>"
      ]
     },
     "execution_count": 7,
     "metadata": {},
     "output_type": "execute_result"
    }
   ],
   "execution_count": 7
  },
  {
   "metadata": {
    "ExecuteTime": {
     "end_time": "2025-04-03T14:18:14.602018Z",
     "start_time": "2025-04-03T14:18:14.270099Z"
    }
   },
   "cell_type": "code",
   "source": [
    "sns.histplot(x=percent_shares['percentage'], bins=10, stat='proportion')\n",
    "plt.xlabel('Percentage of Shares')"
   ],
   "id": "5cbcb8b7882b5266",
   "outputs": [
    {
     "data": {
      "text/plain": [
       "Text(0.5, 0, 'Percentage of Shares')"
      ]
     },
     "execution_count": 8,
     "metadata": {},
     "output_type": "execute_result"
    },
    {
     "data": {
      "text/plain": [
       "<Figure size 640x480 with 1 Axes>"
      ],
      "image/png": "[encoded data removed]"
     },
     "metadata": {},
     "output_type": "display_data"
    }
   ],
   "execution_count": 8
  },
  {
   "metadata": {},
   "cell_type": "markdown",
   "source": "# Exercise 1.8",
   "id": "a26adb5e6ffb17a2"
  },
  {
   "metadata": {
    "ExecuteTime": {
     "end_time": "2025-04-03T14:18:14.967796Z",
     "start_time": "2025-04-03T14:18:14.949666Z"
    }
   },
   "cell_type": "code",
   "source": [
    "aluminum_oxide = pd.DataFrame({'Percentage': [14.4, 13.8, 14.6, 11.5, 13.8, 10.9, 10.1, 11.6, 11.1, 13.4, 12.4, 13.1, 12.7, 12.5, 11.8, 11.6, 18.3, 15.8, 18, 18, 20.8, 17.7, 18.3, 16.7, 14.8, 19.1]})\n",
    "aluminum_oxide"
   ],
   "id": "c519761fd92290b2",
   "outputs": [
    {
     "data": {
      "text/plain": [
       "    Percentage\n",
       "0         14.4\n",
       "1         13.8\n",
       "2         14.6\n",
       "3         11.5\n",
       "4         13.8\n",
       "5         10.9\n",
       "6         10.1\n",
       "7         11.6\n",
       "8         11.1\n",
       "9         13.4\n",
       "10        12.4\n",
       "11        13.1\n",
       "12        12.7\n",
       "13        12.5\n",
       "14        11.8\n",
       "15        11.6\n",
       "16        18.3\n",
       "17        15.8\n",
       "18        18.0\n",
       "19        18.0\n",
       "20        20.8\n",
       "21        17.7\n",
       "22        18.3\n",
       "23        16.7\n",
       "24        14.8\n",
       "25        19.1"
      ],
      "text/html": [
       "<div>\n",
       "<style scoped>\n",
       "    .dataframe tbody tr th:only-of-type {\n",
       "        vertical-align: middle;\n",
       "    }\n",
       "\n",
       "    .dataframe tbody tr th {\n",
       "        vertical-align: top;\n",
       "    }\n",
       "\n",
       "    .dataframe thead th {\n",
       "        text-align: right;\n",
       "    }\n",
       "</style>\n",
       "<table border=\"1\" class=\"dataframe\">\n",
       "  <thead>\n",
       "    <tr style=\"text-align: right;\">\n",
       "      <th></th>\n",
       "      <th>Percentage</th>\n",
       "    </tr>\n",
       "  </thead>\n",
       "  <tbody>\n",
       "    <tr>\n",
       "      <th>0</th>\n",
       "      <td>14.4</td>\n",
       "    </tr>\n",
       "    <tr>\n",
       "      <th>1</th>\n",
       "      <td>13.8</td>\n",
       "    </tr>\n",
       "    <tr>\n",
       "      <th>2</th>\n",
       "      <td>14.6</td>\n",
       "    </tr>\n",
       "    <tr>\n",
       "      <th>3</th>\n",
       "      <td>11.5</td>\n",
       "    </tr>\n",
       "    <tr>\n",
       "      <th>4</th>\n",
       "      <td>13.8</td>\n",
       "    </tr>\n",
       "    <tr>\n",
       "      <th>5</th>\n",
       "      <td>10.9</td>\n",
       "    </tr>\n",
       "    <tr>\n",
       "      <th>6</th>\n",
       "      <td>10.1</td>\n",
       "    </tr>\n",
       "    <tr>\n",
       "      <th>7</th>\n",
       "      <td>11.6</td>\n",
       "    </tr>\n",
       "    <tr>\n",
       "      <th>8</th>\n",
       "      <td>11.1</td>\n",
       "    </tr>\n",
       "    <tr>\n",
       "      <th>9</th>\n",
       "      <td>13.4</td>\n",
       "    </tr>\n",
       "    <tr>\n",
       "      <th>10</th>\n",
       "      <td>12.4</td>\n",
       "    </tr>\n",
       "    <tr>\n",
       "      <th>11</th>\n",
       "      <td>13.1</td>\n",
       "    </tr>\n",
       "    <tr>\n",
       "      <th>12</th>\n",
       "      <td>12.7</td>\n",
       "    </tr>\n",
       "    <tr>\n",
       "      <th>13</th>\n",
       "      <td>12.5</td>\n",
       "    </tr>\n",
       "    <tr>\n",
       "      <th>14</th>\n",
       "      <td>11.8</td>\n",
       "    </tr>\n",
       "    <tr>\n",
       "      <th>15</th>\n",
       "      <td>11.6</td>\n",
       "    </tr>\n",
       "    <tr>\n",
       "      <th>16</th>\n",
       "      <td>18.3</td>\n",
       "    </tr>\n",
       "    <tr>\n",
       "      <th>17</th>\n",
       "      <td>15.8</td>\n",
       "    </tr>\n",
       "    <tr>\n",
       "      <th>18</th>\n",
       "      <td>18.0</td>\n",
       "    </tr>\n",
       "    <tr>\n",
       "      <th>19</th>\n",
       "      <td>18.0</td>\n",
       "    </tr>\n",
       "    <tr>\n",
       "      <th>20</th>\n",
       "      <td>20.8</td>\n",
       "    </tr>\n",
       "    <tr>\n",
       "      <th>21</th>\n",
       "      <td>17.7</td>\n",
       "    </tr>\n",
       "    <tr>\n",
       "      <th>22</th>\n",
       "      <td>18.3</td>\n",
       "    </tr>\n",
       "    <tr>\n",
       "      <th>23</th>\n",
       "      <td>16.7</td>\n",
       "    </tr>\n",
       "    <tr>\n",
       "      <th>24</th>\n",
       "      <td>14.8</td>\n",
       "    </tr>\n",
       "    <tr>\n",
       "      <th>25</th>\n",
       "      <td>19.1</td>\n",
       "    </tr>\n",
       "  </tbody>\n",
       "</table>\n",
       "</div>"
      ]
     },
     "execution_count": 9,
     "metadata": {},
     "output_type": "execute_result"
    }
   ],
   "execution_count": 9
  },
  {
   "metadata": {
    "ExecuteTime": {
     "end_time": "2025-04-03T14:18:15.748546Z",
     "start_time": "2025-04-03T14:18:15.362818Z"
    }
   },
   "cell_type": "code",
   "source": "sns.histplot(x=aluminum_oxide['Percentage'],bins=12, stat='proportion')",
   "id": "50dc4a8c42a6f591",
   "outputs": [
    {
     "data": {
      "text/plain": [
       "<Axes: xlabel='Percentage', ylabel='Proportion'>"
      ]
     },
     "execution_count": 10,
     "metadata": {},
     "output_type": "execute_result"
    },
    {
     "data": {
      "text/plain": [
       "<Figure size 640x480 with 1 Axes>"
      ],
      "image/png": "[encoded data removed]"
     },
     "metadata": {},
     "output_type": "display_data"
    }
   ],
   "execution_count": 10
  },
  {
   "metadata": {},
   "cell_type": "markdown",
   "source": "# Exercise 1.13",
   "id": "e2f70d7455ed30ed"
  },
  {
   "metadata": {
    "ExecuteTime": {
     "end_time": "2025-04-03T14:35:43.938474Z",
     "start_time": "2025-04-03T14:35:43.932231Z"
    }
   },
   "cell_type": "code",
   "source": [
    "# sample mean y bar\n",
    "y_bar = st.mean(average_wind['avg_speed'])\n",
    "y_bar"
   ],
   "id": "43038255c054f2be",
   "outputs": [
    {
     "data": {
      "text/plain": [
       "9.79111111111111"
      ]
     },
     "execution_count": 27,
     "metadata": {},
     "output_type": "execute_result"
    }
   ],
   "execution_count": 27
  },
  {
   "metadata": {
    "ExecuteTime": {
     "end_time": "2025-04-03T14:35:45.927792Z",
     "start_time": "2025-04-03T14:35:45.919702Z"
    }
   },
   "cell_type": "code",
   "source": [
    "# sample variance\n",
    "sigma = st.stdev(average_wind['avg_speed'], xbar=y_bar)\n",
    "sigma"
   ],
   "id": "efb2dd137c9ffffb",
   "outputs": [
    {
     "data": {
      "text/plain": [
       "4.138006888599995"
      ]
     },
     "execution_count": 28,
     "metadata": {},
     "output_type": "execute_result"
    }
   ],
   "execution_count": 28
  },
  {
   "metadata": {
    "ExecuteTime": {
     "end_time": "2025-04-03T14:41:03.984602Z",
     "start_time": "2025-04-03T14:41:03.965517Z"
    }
   },
   "cell_type": "code",
   "source": [
    "# intervals\n",
    "intervals = pd.DataFrame({'inferior': [y_bar-sigma, y_bar-2*sigma, y_bar-3*sigma], 'superior': [y_bar+sigma, y_bar+2*sigma, y_bar+3*sigma]})\n",
    "\n",
    "intervals['count'] = intervals.apply(lambda interval: average_wind['avg_speed'].between(interval['inferior'], interval['superior']).sum(), axis=1)\n",
    "\n",
    "num_obs = average_wind.shape[0]\n",
    "intervals['expected_count'] = [num_obs*0.68, num_obs*.95, num_obs*1]\n",
    "intervals"
   ],
   "id": "68818b3f6bd4ff4f",
   "outputs": [
    {
     "data": {
      "text/plain": [
       "   inferior   superior  count  expected_count\n",
       "0  5.653104  13.929118     44           30.60\n",
       "1  1.515097  18.067125     44           42.75\n",
       "2 -2.622910  22.205132     44           45.00"
      ],
      "text/html": [
       "<div>\n",
       "<style scoped>\n",
       "    .dataframe tbody tr th:only-of-type {\n",
       "        vertical-align: middle;\n",
       "    }\n",
       "\n",
       "    .dataframe tbody tr th {\n",
       "        vertical-align: top;\n",
       "    }\n",
       "\n",
       "    .dataframe thead th {\n",
       "        text-align: right;\n",
       "    }\n",
       "</style>\n",
       "<table border=\"1\" class=\"dataframe\">\n",
       "  <thead>\n",
       "    <tr style=\"text-align: right;\">\n",
       "      <th></th>\n",
       "      <th>inferior</th>\n",
       "      <th>superior</th>\n",
       "      <th>count</th>\n",
       "      <th>expected_count</th>\n",
       "    </tr>\n",
       "  </thead>\n",
       "  <tbody>\n",
       "    <tr>\n",
       "      <th>0</th>\n",
       "      <td>5.653104</td>\n",
       "      <td>13.929118</td>\n",
       "      <td>44</td>\n",
       "      <td>30.60</td>\n",
       "    </tr>\n",
       "    <tr>\n",
       "      <th>1</th>\n",
       "      <td>1.515097</td>\n",
       "      <td>18.067125</td>\n",
       "      <td>44</td>\n",
       "      <td>42.75</td>\n",
       "    </tr>\n",
       "    <tr>\n",
       "      <th>2</th>\n",
       "      <td>-2.622910</td>\n",
       "      <td>22.205132</td>\n",
       "      <td>44</td>\n",
       "      <td>45.00</td>\n",
       "    </tr>\n",
       "  </tbody>\n",
       "</table>\n",
       "</div>"
      ]
     },
     "execution_count": 43,
     "metadata": {},
     "output_type": "execute_result"
    }
   ],
   "execution_count": 43
  },
  {
   "metadata": {},
   "cell_type": "markdown",
   "source": "# Exercise 1.14",
   "id": "de5afbc4e4c3091e"
  },
  {
   "metadata": {
    "ExecuteTime": {
     "end_time": "2025-04-03T15:13:58.828470Z",
     "start_time": "2025-04-03T15:13:58.797701Z"
    }
   },
   "cell_type": "code",
   "source": [
    "# sample mean\n",
    "y_bar = st.mean(u_238['picocuries_per_gram'])\n",
    "print(y_bar)\n",
    "# sample std dev\n",
    "sigma = st.stdev(u_238['picocuries_per_gram'])\n",
    "print(sigma)\n",
    "# intervals\n",
    "intervals = pd.DataFrame({'inferior': [y_bar-sigma, y_bar-2*sigma, y_bar-3*sigma], 'superior': [y_bar+sigma, y_bar+2*sigma, y_bar+3*sigma]})\n",
    "\n",
    "intervals['count'] = intervals.apply(lambda interval: u_238['picocuries_per_gram'].between(interval['inferior'], interval['superior']).sum(), axis=1)\n",
    "\n",
    "num_obs = u_238.shape[0]\n",
    "intervals['expected_count'] = [num_obs*0.68, num_obs*.95, num_obs*1]\n",
    "intervals"
   ],
   "id": "63d05792e570c755",
   "outputs": [
    {
     "name": "stdout",
     "output_type": "stream",
     "text": [
      "3.2252\n",
      "3.1668729581928816\n"
     ]
    },
    {
     "data": {
      "text/plain": [
       "   inferior   superior  count  expected_count\n",
       "0  0.058327   6.392073     21           17.00\n",
       "1 -3.108546   9.558946     23           23.75\n",
       "2 -6.275419  12.725819     25           25.00"
      ],
      "text/html": [
       "<div>\n",
       "<style scoped>\n",
       "    .dataframe tbody tr th:only-of-type {\n",
       "        vertical-align: middle;\n",
       "    }\n",
       "\n",
       "    .dataframe tbody tr th {\n",
       "        vertical-align: top;\n",
       "    }\n",
       "\n",
       "    .dataframe thead th {\n",
       "        text-align: right;\n",
       "    }\n",
       "</style>\n",
       "<table border=\"1\" class=\"dataframe\">\n",
       "  <thead>\n",
       "    <tr style=\"text-align: right;\">\n",
       "      <th></th>\n",
       "      <th>inferior</th>\n",
       "      <th>superior</th>\n",
       "      <th>count</th>\n",
       "      <th>expected_count</th>\n",
       "    </tr>\n",
       "  </thead>\n",
       "  <tbody>\n",
       "    <tr>\n",
       "      <th>0</th>\n",
       "      <td>0.058327</td>\n",
       "      <td>6.392073</td>\n",
       "      <td>21</td>\n",
       "      <td>17.00</td>\n",
       "    </tr>\n",
       "    <tr>\n",
       "      <th>1</th>\n",
       "      <td>-3.108546</td>\n",
       "      <td>9.558946</td>\n",
       "      <td>23</td>\n",
       "      <td>23.75</td>\n",
       "    </tr>\n",
       "    <tr>\n",
       "      <th>2</th>\n",
       "      <td>-6.275419</td>\n",
       "      <td>12.725819</td>\n",
       "      <td>25</td>\n",
       "      <td>25.00</td>\n",
       "    </tr>\n",
       "  </tbody>\n",
       "</table>\n",
       "</div>"
      ]
     },
     "execution_count": 52,
     "metadata": {},
     "output_type": "execute_result"
    }
   ],
   "execution_count": 52
  },
  {
   "metadata": {},
   "cell_type": "markdown",
   "source": "# Exercise 1.15",
   "id": "f21d0f9991bf8b54"
  },
  {
   "metadata": {
    "ExecuteTime": {
     "end_time": "2025-04-03T15:15:00.508737Z",
     "start_time": "2025-04-03T15:15:00.470781Z"
    }
   },
   "cell_type": "code",
   "source": [
    "# sample mean\n",
    "y_bar = st.mean(percent_shares['percentage'])\n",
    "print(y_bar)\n",
    "# sample std dev\n",
    "sigma = st.stdev(percent_shares['percentage'])\n",
    "print(sigma)\n",
    "# intervals\n",
    "intervals = pd.DataFrame({'inferior': [y_bar-sigma, y_bar-2*sigma, y_bar-3*sigma], 'superior': [y_bar+sigma, y_bar+2*sigma, y_bar+3*sigma]})\n",
    "\n",
    "intervals['count'] = intervals.apply(lambda interval: percent_shares['percentage'].between(interval['inferior'], interval['superior']).sum(), axis=1)\n",
    "\n",
    "num_obs = percent_shares.shape[0]\n",
    "intervals['expected_count'] = [num_obs*0.68, num_obs*.95, num_obs*1]\n",
    "intervals"
   ],
   "id": "8a4b4b151d9f211",
   "outputs": [
    {
     "name": "stdout",
     "output_type": "stream",
     "text": [
      "4.3870000000000005\n",
      "1.871383966137882\n"
     ]
    },
    {
     "data": {
      "text/plain": [
       "   inferior   superior  count  expected_count\n",
       "0  2.515616   6.258384     35            27.2\n",
       "1  0.644232   8.129768     39            38.0\n",
       "2 -1.227152  10.001152     39            40.0"
      ],
      "text/html": [
       "<div>\n",
       "<style scoped>\n",
       "    .dataframe tbody tr th:only-of-type {\n",
       "        vertical-align: middle;\n",
       "    }\n",
       "\n",
       "    .dataframe tbody tr th {\n",
       "        vertical-align: top;\n",
       "    }\n",
       "\n",
       "    .dataframe thead th {\n",
       "        text-align: right;\n",
       "    }\n",
       "</style>\n",
       "<table border=\"1\" class=\"dataframe\">\n",
       "  <thead>\n",
       "    <tr style=\"text-align: right;\">\n",
       "      <th></th>\n",
       "      <th>inferior</th>\n",
       "      <th>superior</th>\n",
       "      <th>count</th>\n",
       "      <th>expected_count</th>\n",
       "    </tr>\n",
       "  </thead>\n",
       "  <tbody>\n",
       "    <tr>\n",
       "      <th>0</th>\n",
       "      <td>2.515616</td>\n",
       "      <td>6.258384</td>\n",
       "      <td>35</td>\n",
       "      <td>27.2</td>\n",
       "    </tr>\n",
       "    <tr>\n",
       "      <th>1</th>\n",
       "      <td>0.644232</td>\n",
       "      <td>8.129768</td>\n",
       "      <td>39</td>\n",
       "      <td>38.0</td>\n",
       "    </tr>\n",
       "    <tr>\n",
       "      <th>2</th>\n",
       "      <td>-1.227152</td>\n",
       "      <td>10.001152</td>\n",
       "      <td>39</td>\n",
       "      <td>40.0</td>\n",
       "    </tr>\n",
       "  </tbody>\n",
       "</table>\n",
       "</div>"
      ]
     },
     "execution_count": 53,
     "metadata": {},
     "output_type": "execute_result"
    }
   ],
   "execution_count": 53
  },
  {
   "metadata": {},
   "cell_type": "markdown",
   "source": "# Exercise 1.24",
   "id": "86c23d749fe24802"
  },
  {
   "metadata": {
    "ExecuteTime": {
     "end_time": "2025-04-04T20:06:02.051027Z",
     "start_time": "2025-04-04T20:06:01.998336Z"
    }
   },
   "cell_type": "code",
   "source": [
    "heart_rates = pd.DataFrame({'heart_rate': [87, 109, 79, 80, 96, 95, 90, 92, 96, 98, 101, 91, 78, 112, 94, 98, 94, 107, 81, 96]})\n",
    "heart_rates"
   ],
   "id": "b2b0c1d3deadb0b",
   "outputs": [
    {
     "data": {
      "text/plain": [
       "    heart_rate\n",
       "0           87\n",
       "1          109\n",
       "2           79\n",
       "3           80\n",
       "4           96\n",
       "5           95\n",
       "6           90\n",
       "7           92\n",
       "8           96\n",
       "9           98\n",
       "10         101\n",
       "11          91\n",
       "12          78\n",
       "13         112\n",
       "14          94\n",
       "15          98\n",
       "16          94\n",
       "17         107\n",
       "18          81\n",
       "19          96"
      ],
      "text/html": [
       "<div>\n",
       "<style scoped>\n",
       "    .dataframe tbody tr th:only-of-type {\n",
       "        vertical-align: middle;\n",
       "    }\n",
       "\n",
       "    .dataframe tbody tr th {\n",
       "        vertical-align: top;\n",
       "    }\n",
       "\n",
       "    .dataframe thead th {\n",
       "        text-align: right;\n",
       "    }\n",
       "</style>\n",
       "<table border=\"1\" class=\"dataframe\">\n",
       "  <thead>\n",
       "    <tr style=\"text-align: right;\">\n",
       "      <th></th>\n",
       "      <th>heart_rate</th>\n",
       "    </tr>\n",
       "  </thead>\n",
       "  <tbody>\n",
       "    <tr>\n",
       "      <th>0</th>\n",
       "      <td>87</td>\n",
       "    </tr>\n",
       "    <tr>\n",
       "      <th>1</th>\n",
       "      <td>109</td>\n",
       "    </tr>\n",
       "    <tr>\n",
       "      <th>2</th>\n",
       "      <td>79</td>\n",
       "    </tr>\n",
       "    <tr>\n",
       "      <th>3</th>\n",
       "      <td>80</td>\n",
       "    </tr>\n",
       "    <tr>\n",
       "      <th>4</th>\n",
       "      <td>96</td>\n",
       "    </tr>\n",
       "    <tr>\n",
       "      <th>5</th>\n",
       "      <td>95</td>\n",
       "    </tr>\n",
       "    <tr>\n",
       "      <th>6</th>\n",
       "      <td>90</td>\n",
       "    </tr>\n",
       "    <tr>\n",
       "      <th>7</th>\n",
       "      <td>92</td>\n",
       "    </tr>\n",
       "    <tr>\n",
       "      <th>8</th>\n",
       "      <td>96</td>\n",
       "    </tr>\n",
       "    <tr>\n",
       "      <th>9</th>\n",
       "      <td>98</td>\n",
       "    </tr>\n",
       "    <tr>\n",
       "      <th>10</th>\n",
       "      <td>101</td>\n",
       "    </tr>\n",
       "    <tr>\n",
       "      <th>11</th>\n",
       "      <td>91</td>\n",
       "    </tr>\n",
       "    <tr>\n",
       "      <th>12</th>\n",
       "      <td>78</td>\n",
       "    </tr>\n",
       "    <tr>\n",
       "      <th>13</th>\n",
       "      <td>112</td>\n",
       "    </tr>\n",
       "    <tr>\n",
       "      <th>14</th>\n",
       "      <td>94</td>\n",
       "    </tr>\n",
       "    <tr>\n",
       "      <th>15</th>\n",
       "      <td>98</td>\n",
       "    </tr>\n",
       "    <tr>\n",
       "      <th>16</th>\n",
       "      <td>94</td>\n",
       "    </tr>\n",
       "    <tr>\n",
       "      <th>17</th>\n",
       "      <td>107</td>\n",
       "    </tr>\n",
       "    <tr>\n",
       "      <th>18</th>\n",
       "      <td>81</td>\n",
       "    </tr>\n",
       "    <tr>\n",
       "      <th>19</th>\n",
       "      <td>96</td>\n",
       "    </tr>\n",
       "  </tbody>\n",
       "</table>\n",
       "</div>"
      ]
     },
     "execution_count": 2,
     "metadata": {},
     "output_type": "execute_result"
    }
   ],
   "execution_count": 2
  },
  {
   "metadata": {
    "ExecuteTime": {
     "end_time": "2025-04-04T20:14:44.116086Z",
     "start_time": "2025-04-04T20:14:43.835348Z"
    }
   },
   "cell_type": "code",
   "source": [
    "# histogram\n",
    "sns.histplot(x=heart_rates.heart_rate, stat='probability')"
   ],
   "id": "f6bc945abee51522",
   "outputs": [
    {
     "data": {
      "text/plain": [
       "<Axes: xlabel='heart_rate', ylabel='Probability'>"
      ]
     },
     "execution_count": 21,
     "metadata": {},
     "output_type": "execute_result"
    },
    {
     "data": {
      "text/plain": [
       "<Figure size 640x480 with 1 Axes>"
      ],
      "image/png": "[encoded data removed]"
     },
     "metadata": {},
     "output_type": "display_data"
    }
   ],
   "execution_count": 21
  },
  {
   "metadata": {
    "ExecuteTime": {
     "end_time": "2025-04-04T20:11:47.369616Z",
     "start_time": "2025-04-04T20:11:47.359806Z"
    }
   },
   "cell_type": "code",
   "source": [
    "s_estimate = 0.25*(heart_rates.heart_rate.max() - heart_rates.heart_rate.min())\n",
    "print(s_estimate)\n",
    "\n",
    "sample_std_dev = st.stdev(heart_rates.heart_rate)\n",
    "print(sample_std_dev)\n",
    "sample_mean = st.mean(heart_rates['heart_rate'])\n",
    "print(sample_mean)"
   ],
   "id": "c413ca0808f22b8b",
   "outputs": [
    {
     "name": "stdout",
     "output_type": "stream",
     "text": [
      "8.5\n",
      "9.553726195078353\n",
      "93.7\n"
     ]
    }
   ],
   "execution_count": 14
  },
  {
   "metadata": {
    "ExecuteTime": {
     "end_time": "2025-04-04T22:56:42.226733Z",
     "start_time": "2025-04-04T22:56:42.187555Z"
    }
   },
   "cell_type": "code",
   "source": [
    "# intervals\n",
    "\n",
    "intervals = pd.DataFrame({'inf_int': [sample_mean - 1*sample_std_dev, sample_mean - 2*sample_std_dev, sample_mean- 3*sample_std_dev], 'sup_int': [sample_mean + 1*sample_std_dev, sample_mean + 2*sample_std_dev, sample_mean + 3*sample_std_dev]})\n",
    "\n",
    "# counts and expected counts\n",
    "\n",
    "intervals['count'] = intervals.apply(lambda row: heart_rates['heart_rate'].between(row['inf_int'], row['sup_int']).sum(), axis=1)\n",
    "intervals\n",
    "\n",
    "# expected count\n",
    "n = heart_rates.shape[0]\n",
    "intervals['expected'] = [n*0.68, n*.95, n]\n",
    "\n",
    "intervals"
   ],
   "id": "3b1f42260a32c12e",
   "outputs": [
    {
     "data": {
      "text/plain": [
       "     inf_int     sup_int  count  expected\n",
       "0  84.146274  103.253726     13      13.6\n",
       "1  74.592548  112.807452     20      19.0\n",
       "2  65.038821  122.361179     20      20.0"
      ],
      "text/html": [
       "<div>\n",
       "<style scoped>\n",
       "    .dataframe tbody tr th:only-of-type {\n",
       "        vertical-align: middle;\n",
       "    }\n",
       "\n",
       "    .dataframe tbody tr th {\n",
       "        vertical-align: top;\n",
       "    }\n",
       "\n",
       "    .dataframe thead th {\n",
       "        text-align: right;\n",
       "    }\n",
       "</style>\n",
       "<table border=\"1\" class=\"dataframe\">\n",
       "  <thead>\n",
       "    <tr style=\"text-align: right;\">\n",
       "      <th></th>\n",
       "      <th>inf_int</th>\n",
       "      <th>sup_int</th>\n",
       "      <th>count</th>\n",
       "      <th>expected</th>\n",
       "    </tr>\n",
       "  </thead>\n",
       "  <tbody>\n",
       "    <tr>\n",
       "      <th>0</th>\n",
       "      <td>84.146274</td>\n",
       "      <td>103.253726</td>\n",
       "      <td>13</td>\n",
       "      <td>13.6</td>\n",
       "    </tr>\n",
       "    <tr>\n",
       "      <th>1</th>\n",
       "      <td>74.592548</td>\n",
       "      <td>112.807452</td>\n",
       "      <td>20</td>\n",
       "      <td>19.0</td>\n",
       "    </tr>\n",
       "    <tr>\n",
       "      <th>2</th>\n",
       "      <td>65.038821</td>\n",
       "      <td>122.361179</td>\n",
       "      <td>20</td>\n",
       "      <td>20.0</td>\n",
       "    </tr>\n",
       "  </tbody>\n",
       "</table>\n",
       "</div>"
      ]
     },
     "execution_count": 65,
     "metadata": {},
     "output_type": "execute_result"
    }
   ],
   "execution_count": 65
  },
  {
   "metadata": {
    "ExecuteTime": {
     "end_time": "2025-04-04T23:02:09.690793Z",
     "start_time": "2025-04-04T23:02:09.427993Z"
    }
   },
   "cell_type": "code",
   "source": [
    "# Adding mean and variance to the histogram\n",
    "\n",
    "fig, ax = plt.subplots()\n",
    "sns.histplot(x=heart_rates.heart_rate, bins=6,stat='probability')\n",
    "# mean\n",
    "ax.axvline(sample_mean, color='black', linestyle='--', linewidth=2, label=f'Mean: {sample_mean:.2f}')\n",
    "\n",
    "# intervals\n",
    "ax.vlines(x=intervals.inf_int[0], ymin=0, ymax=0.3, color='red', label='interval')\n",
    "ax.vlines(x=intervals.sup_int[0], ymin=0, ymax=0.3, color='red', label='interval')\n",
    "ax.vlines(x=intervals.inf_int[1], ymin=0, ymax=0.3, color='blue', label='interval')\n",
    "ax.vlines(x=intervals.sup_int[1], ymin=0, ymax=0.3, color='blue', label='interval')\n",
    "ax.vlines(x=intervals.inf_int[2], ymin=0, ymax=0.3, color='green', label='interval')\n",
    "ax.vlines(x=intervals.sup_int[2], ymin=0, ymax=0.3, color='green', label='interval')\n",
    "\n"
   ],
   "id": "476807edd071e355",
   "outputs": [
    {
     "data": {
      "text/plain": [
       "<matplotlib.collections.LineCollection at 0x7f644a052c90>"
      ]
     },
     "execution_count": 77,
     "metadata": {},
     "output_type": "execute_result"
    },
    {
     "data": {
      "text/plain": [
       "<Figure size 640x480 with 1 Axes>"
      ],
      "image/png": "[encoded data removed]"
     },
     "metadata": {},
     "output_type": "display_data"
    }
   ],
   "execution_count": 77
  },
  {
   "metadata": {},
   "cell_type": "markdown",
   "source": "# Exercise 1.25",
   "id": "468890b95f5a2056"
  },
  {
   "metadata": {
    "ExecuteTime": {
     "end_time": "2025-04-04T23:09:50.077933Z",
     "start_time": "2025-04-04T23:09:50.064769Z"
    }
   },
   "cell_type": "code",
   "source": [
    "time_failure = pd.DataFrame({'time':[16, 392, 358, 304, 108, 156, 438, 60, 360, 56, 168, 224, 576, 384, 16, 194, 216, 120, 208, 232, 72, 168, 16, 128, 256, 72, 136, 168, 308, 340, 40, 64, 114, 80, 56, 246, 8, 224, 184, 32, 104, 112, 40, 280, 96, 656, 328, 80, 80, 552, 272, 72, 112, 184, 152, 536, 224, 464, 72, 16, 72, 152, 168, 288, 264, 208, 400, 40, 448, 56, 424, 184, 328, 40, 168, 96, 160, 80, 32, 716, 608, 264, 240, 480, 152, 352, 224, 176]})\n",
    "time_failure"
   ],
   "id": "96292116862d9476",
   "outputs": [
    {
     "data": {
      "text/plain": [
       "    time\n",
       "0     16\n",
       "1    392\n",
       "2    358\n",
       "3    304\n",
       "4    108\n",
       "..   ...\n",
       "83   480\n",
       "84   152\n",
       "85   352\n",
       "86   224\n",
       "87   176\n",
       "\n",
       "[88 rows x 1 columns]"
      ],
      "text/html": [
       "<div>\n",
       "<style scoped>\n",
       "    .dataframe tbody tr th:only-of-type {\n",
       "        vertical-align: middle;\n",
       "    }\n",
       "\n",
       "    .dataframe tbody tr th {\n",
       "        vertical-align: top;\n",
       "    }\n",
       "\n",
       "    .dataframe thead th {\n",
       "        text-align: right;\n",
       "    }\n",
       "</style>\n",
       "<table border=\"1\" class=\"dataframe\">\n",
       "  <thead>\n",
       "    <tr style=\"text-align: right;\">\n",
       "      <th></th>\n",
       "      <th>time</th>\n",
       "    </tr>\n",
       "  </thead>\n",
       "  <tbody>\n",
       "    <tr>\n",
       "      <th>0</th>\n",
       "      <td>16</td>\n",
       "    </tr>\n",
       "    <tr>\n",
       "      <th>1</th>\n",
       "      <td>392</td>\n",
       "    </tr>\n",
       "    <tr>\n",
       "      <th>2</th>\n",
       "      <td>358</td>\n",
       "    </tr>\n",
       "    <tr>\n",
       "      <th>3</th>\n",
       "      <td>304</td>\n",
       "    </tr>\n",
       "    <tr>\n",
       "      <th>4</th>\n",
       "      <td>108</td>\n",
       "    </tr>\n",
       "    <tr>\n",
       "      <th>...</th>\n",
       "      <td>...</td>\n",
       "    </tr>\n",
       "    <tr>\n",
       "      <th>83</th>\n",
       "      <td>480</td>\n",
       "    </tr>\n",
       "    <tr>\n",
       "      <th>84</th>\n",
       "      <td>152</td>\n",
       "    </tr>\n",
       "    <tr>\n",
       "      <th>85</th>\n",
       "      <td>352</td>\n",
       "    </tr>\n",
       "    <tr>\n",
       "      <th>86</th>\n",
       "      <td>224</td>\n",
       "    </tr>\n",
       "    <tr>\n",
       "      <th>87</th>\n",
       "      <td>176</td>\n",
       "    </tr>\n",
       "  </tbody>\n",
       "</table>\n",
       "<p>88 rows × 1 columns</p>\n",
       "</div>"
      ]
     },
     "execution_count": 78,
     "metadata": {},
     "output_type": "execute_result"
    }
   ],
   "execution_count": 78
  },
  {
   "metadata": {
    "ExecuteTime": {
     "end_time": "2025-04-04T23:10:43.209246Z",
     "start_time": "2025-04-04T23:10:43.202276Z"
    }
   },
   "cell_type": "code",
   "source": [
    "# approximate s\n",
    "s_app = 0.25*(time_failure.time.max() - time_failure.time.min())\n",
    "s_app"
   ],
   "id": "881de41233a26607",
   "outputs": [
    {
     "data": {
      "text/plain": [
       "np.float64(177.0)"
      ]
     },
     "execution_count": 81,
     "metadata": {},
     "output_type": "execute_result"
    }
   ],
   "execution_count": 81
  },
  {
   "metadata": {
    "ExecuteTime": {
     "end_time": "2025-04-05T00:03:36.513635Z",
     "start_time": "2025-04-05T00:03:36.507078Z"
    }
   },
   "cell_type": "code",
   "source": [
    "s = st.stdev(time_failure['time'])\n",
    "print(s)\n",
    "m = st.mean(time_failure['time'])\n",
    "print(m)"
   ],
   "id": "16f8c43b73321c2d",
   "outputs": [
    {
     "name": "stdout",
     "output_type": "stream",
     "text": [
      "162.17275867809082\n",
      "210.79545454545453\n"
     ]
    }
   ],
   "execution_count": 115
  },
  {
   "metadata": {
    "ExecuteTime": {
     "end_time": "2025-04-04T23:23:05.000237Z",
     "start_time": "2025-04-04T23:23:04.973758Z"
    }
   },
   "cell_type": "code",
   "source": [
    "intervals = pd.DataFrame({'inf_int': [m - 1*s, m-2*s, m-3*s],\n",
    "                          'sup_int': [m + 1*s, m+2*s, m+3*s]})\n",
    "intervals['count'] = intervals.apply(lambda row: time_failure.time.between(row['inf_int'], row['sup_int']).sum(), axis=1)\n",
    "n = time_failure.shape[0]\n",
    "intervals['expected_count'] = [n*.68, n*.95, n]\n",
    "intervals"
   ],
   "id": "ba82fffb9599ebbe",
   "outputs": [
    {
     "data": {
      "text/plain": [
       "      inf_int     sup_int  count  expected_count\n",
       "0   48.622696  372.968213     63           59.84\n",
       "1 -113.550063  535.140972     82           83.60\n",
       "2 -275.722821  697.313731     87           88.00"
      ],
      "text/html": [
       "<div>\n",
       "<style scoped>\n",
       "    .dataframe tbody tr th:only-of-type {\n",
       "        vertical-align: middle;\n",
       "    }\n",
       "\n",
       "    .dataframe tbody tr th {\n",
       "        vertical-align: top;\n",
       "    }\n",
       "\n",
       "    .dataframe thead th {\n",
       "        text-align: right;\n",
       "    }\n",
       "</style>\n",
       "<table border=\"1\" class=\"dataframe\">\n",
       "  <thead>\n",
       "    <tr style=\"text-align: right;\">\n",
       "      <th></th>\n",
       "      <th>inf_int</th>\n",
       "      <th>sup_int</th>\n",
       "      <th>count</th>\n",
       "      <th>expected_count</th>\n",
       "    </tr>\n",
       "  </thead>\n",
       "  <tbody>\n",
       "    <tr>\n",
       "      <th>0</th>\n",
       "      <td>48.622696</td>\n",
       "      <td>372.968213</td>\n",
       "      <td>63</td>\n",
       "      <td>59.84</td>\n",
       "    </tr>\n",
       "    <tr>\n",
       "      <th>1</th>\n",
       "      <td>-113.550063</td>\n",
       "      <td>535.140972</td>\n",
       "      <td>82</td>\n",
       "      <td>83.60</td>\n",
       "    </tr>\n",
       "    <tr>\n",
       "      <th>2</th>\n",
       "      <td>-275.722821</td>\n",
       "      <td>697.313731</td>\n",
       "      <td>87</td>\n",
       "      <td>88.00</td>\n",
       "    </tr>\n",
       "  </tbody>\n",
       "</table>\n",
       "</div>"
      ]
     },
     "execution_count": 92,
     "metadata": {},
     "output_type": "execute_result"
    }
   ],
   "execution_count": 92
  },
  {
   "metadata": {
    "ExecuteTime": {
     "end_time": "2025-04-04T23:42:12.940859Z",
     "start_time": "2025-04-04T23:42:12.531885Z"
    }
   },
   "cell_type": "code",
   "source": [
    "# histogram\n",
    "fig, ax = plt.subplots()\n",
    "sns.histplot(x=time_failure['time'], stat='probability')\n",
    "\n",
    "ax.axvline(x=m, color='black', linestyle='--', linewidth=2, label=f'Mean: {m:.2f}')\n",
    "\n",
    "med = st.median(time_failure['time'])\n",
    "ax.axvline(x=med, color='black', linestyle='solid', linewidth=2, label=f'Median: {med:.2f}')\n",
    "\n",
    "ax.axvline(x=intervals.inf_int[0], color='red', label='interval')\n",
    "ax.axvline(x=intervals.sup_int[0], color='red', label='interval')\n",
    "plt.legend()"
   ],
   "id": "61c9db9752e3f632",
   "outputs": [
    {
     "data": {
      "text/plain": [
       "<matplotlib.legend.Legend at 0x7f64481886e0>"
      ]
     },
     "execution_count": 108,
     "metadata": {},
     "output_type": "execute_result"
    },
    {
     "data": {
      "text/plain": [
       "<Figure size 640x480 with 1 Axes>"
      ],
      "image/png": "[encoded data removed]"
     },
     "metadata": {},
     "output_type": "display_data"
    }
   ],
   "execution_count": 108
  },
  {
   "metadata": {},
   "cell_type": "markdown",
   "source": [
    "* Despite having the required data by the empirical rule (68, 95, 99.7)\n",
    "* We must have a **symmetric** (skew=0) histogram to conclude the distribution is approx normal"
   ],
   "id": "83feb1a54ff9d135"
  },
  {
   "metadata": {},
   "cell_type": "markdown",
   "source": "## Visualizing the variance",
   "id": "a6ac9d43c1d7bc3e"
  },
  {
   "metadata": {
    "ExecuteTime": {
     "end_time": "2025-04-05T00:19:29.027244Z",
     "start_time": "2025-04-05T00:19:28.702972Z"
    }
   },
   "cell_type": "code",
   "source": [
    "fig, ax = plt.subplots()\n",
    "sns.scatterplot(x=range(88), y=time_failure.time)\n",
    "\n",
    "ax.axhline(y=m, color='black', linestyle='--', linewidth=2, label=f'Mean: {m:.2f}')\n",
    "ax.axhline(y=s, color='red', linestyle='-', linewidth=2, label=f'sample variance: {s:.2f}')\n",
    "\n",
    "ax.vlines(x=80, ymin=605, ymax=m, label=f'distance: {608-m:.2f}', color='cyan')\n",
    "plt.legend()"
   ],
   "id": "161f8e7360251d64",
   "outputs": [
    {
     "data": {
      "text/plain": [
       "<matplotlib.legend.Legend at 0x7f64468ec050>"
      ]
     },
     "execution_count": 144,
     "metadata": {},
     "output_type": "execute_result"
    },
    {
     "data": {
      "text/plain": [
       "<Figure size 640x480 with 1 Axes>"
      ],
      "image/png": "[encoded data removed]"
     },
     "metadata": {},
     "output_type": "display_data"
    }
   ],
   "execution_count": 144
  }
 ],
 "metadata": {
  "kernelspec": {
   "display_name": "Python 3",
   "language": "python",
   "name": "python3"
  },
  "language_info": {
   "codemirror_mode": {
    "name": "ipython",
    "version": 2
   },
   "file_extension": ".py",
   "mimetype": "text/x-python",
   "name": "python",
   "nbconvert_exporter": "python",
   "pygments_lexer": "ipython2",
   "version": "2.7.6"
  }
 },
 "nbformat": 4,
 "nbformat_minor": 5
}
