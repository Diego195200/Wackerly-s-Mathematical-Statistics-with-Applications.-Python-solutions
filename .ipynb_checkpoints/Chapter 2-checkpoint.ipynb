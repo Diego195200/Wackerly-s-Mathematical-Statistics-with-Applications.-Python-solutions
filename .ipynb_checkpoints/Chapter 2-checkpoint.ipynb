{
 "cells": [
  {
   "cell_type": "markdown",
   "id": "d8cae49b-26c9-42dc-a241-3989d5307a5c",
   "metadata": {},
   "source": [
    "# Chapter 2"
   ]
  },
  {
   "cell_type": "code",
   "execution_count": 10,
   "id": "b6fbbaf5-8a32-49f4-9840-d39093b7ccf4",
   "metadata": {},
   "outputs": [],
   "source": [
    "from IPython.display import display, Markdown"
   ]
  },
  {
   "cell_type": "markdown",
   "id": "ad56ea1e-86bb-4f47-9390-96c12c7f95b5",
   "metadata": {},
   "source": [
    "## Problem 2.1\n",
    "We have the following sets"
   ]
  },
  {
   "cell_type": "code",
   "execution_count": 4,
   "id": "8f9ee8a8-3281-4604-9538-b39b97083bb8",
   "metadata": {},
   "outputs": [
    {
     "data": {
      "text/plain": [
       "{'FF', 'MM'}"
      ]
     },
     "execution_count": 4,
     "metadata": {},
     "output_type": "execute_result"
    }
   ],
   "source": [
    "S = {'FF', 'FM', 'MF', 'MM'}  # Possible observations\n",
    "\n",
    "# We define the following subsets of S\n",
    "\n",
    "A = no_males = {'FF'}\n",
    "B = two_males = {'MM'}\n",
    "C = at_least_one_male = {'FM', 'MF', 'MM'}\n"
   ]
  },
  {
   "cell_type": "markdown",
   "id": "1334475e-5325-4719-9f5b-d79edd0faab5",
   "metadata": {},
   "source": [
    "Now, the operations"
   ]
  },
  {
   "cell_type": "code",
   "execution_count": 9,
   "id": "65b601a0-7be5-4d6a-89bb-7521e26e1edb",
   "metadata": {
    "jupyter": {
     "source_hidden": true
    }
   },
   "outputs": [],
   "source": [
    "AB = A.intersection(B)\n",
    "AUB = A.union(B)\n",
    "AC = A.intersection(C)\n",
    "AUC = A.union(C)\n",
    "BC = B.intersection(C)\n",
    "BUC = B.union(C)\n",
    "B_complement = S - B\n",
    "CB_complement = C.intersection(B_complement)"
   ]
  },
  {
   "cell_type": "markdown",
   "id": "f1c1b5d3-382e-49ed-9d6e-95eb1909d531",
   "metadata": {},
   "source": [
    "With the following results"
   ]
  },
  {
   "cell_type": "code",
   "execution_count": 36,
   "id": "71369624-45a3-4a88-9386-57c194b988da",
   "metadata": {},
   "outputs": [
    {
     "data": {
      "text/markdown": [
       "$A \\cap B =$ set()"
      ],
      "text/plain": [
       "<IPython.core.display.Markdown object>"
      ]
     },
     "metadata": {},
     "output_type": "display_data"
    },
    {
     "data": {
      "text/markdown": [
       "$A \\cup B =$ {'FF', 'MM'}"
      ],
      "text/plain": [
       "<IPython.core.display.Markdown object>"
      ]
     },
     "metadata": {},
     "output_type": "display_data"
    },
    {
     "data": {
      "text/markdown": [
       "$A \\cap C =$ set()"
      ],
      "text/plain": [
       "<IPython.core.display.Markdown object>"
      ]
     },
     "metadata": {},
     "output_type": "display_data"
    },
    {
     "data": {
      "text/markdown": [
       "$A \\cup C =$ {'FF', 'MM', 'MF', 'FM'}"
      ],
      "text/plain": [
       "<IPython.core.display.Markdown object>"
      ]
     },
     "metadata": {},
     "output_type": "display_data"
    },
    {
     "data": {
      "text/markdown": [
       "$B \\cap C =$ {'MM'}"
      ],
      "text/plain": [
       "<IPython.core.display.Markdown object>"
      ]
     },
     "metadata": {},
     "output_type": "display_data"
    },
    {
     "data": {
      "text/markdown": [
       "$B \\cup C =$ {'FM', 'MM', 'MF'}"
      ],
      "text/plain": [
       "<IPython.core.display.Markdown object>"
      ]
     },
     "metadata": {},
     "output_type": "display_data"
    },
    {
     "data": {
      "text/markdown": [
       "$C \\cap \\bar B =$ {'FM', 'MF'}"
      ],
      "text/plain": [
       "<IPython.core.display.Markdown object>"
      ]
     },
     "metadata": {},
     "output_type": "display_data"
    }
   ],
   "source": [
    "display(Markdown(f'$A \\\\cap B =$ {AB}'))\n",
    "display(Markdown(f'$A \\\\cup B =$ {AUB}'))\n",
    "display(Markdown(f'$A \\\\cap C =$ {AC}'))\n",
    "display(Markdown(f'$A \\\\cup C =$ {AUC}'))\n",
    "display(Markdown(f'$B \\\\cap C =$ {BC}'))\n",
    "display(Markdown(f'$B \\\\cup C =$ {BUC}'))\n",
    "display(Markdown(f'$C \\\\cap \\\\bar B =$ {CB_complement}'))"
   ]
  }
 ],
 "metadata": {
  "kernelspec": {
   "display_name": "Python 3 (ipykernel)",
   "language": "python",
   "name": "python3"
  },
  "language_info": {
   "codemirror_mode": {
    "name": "ipython",
    "version": 3
   },
   "file_extension": ".py",
   "mimetype": "text/x-python",
   "name": "python",
   "nbconvert_exporter": "python",
   "pygments_lexer": "ipython3",
   "version": "3.12.2"
  }
 },
 "nbformat": 4,
 "nbformat_minor": 5
}
