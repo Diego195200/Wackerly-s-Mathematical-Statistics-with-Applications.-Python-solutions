{
 "cells": [
  {
   "cell_type": "markdown",
   "id": "d8cae49b-26c9-42dc-a241-3989d5307a5c",
   "metadata": {},
   "source": [
    "# Chapter 2"
   ]
  },
  {
   "cell_type": "code",
   "execution_count": 1,
   "id": "b6fbbaf5-8a32-49f4-9840-d39093b7ccf4",
   "metadata": {},
   "outputs": [],
   "source": [
    "from IPython.display import display, Markdown"
   ]
  },
  {
   "cell_type": "markdown",
   "id": "ad56ea1e-86bb-4f47-9390-96c12c7f95b5",
   "metadata": {
    "jp-MarkdownHeadingCollapsed": true
   },
   "source": [
    "## Problem 2.1\n"
   ]
  },
  {
   "cell_type": "markdown",
   "id": "2942ce4d-d09f-4df2-bd87-d71ce49cd1c6",
   "metadata": {},
   "source": [
    "We have the following sets"
   ]
  },
  {
   "cell_type": "code",
   "execution_count": 2,
   "id": "8f9ee8a8-3281-4604-9538-b39b97083bb8",
   "metadata": {
    "editable": true,
    "slideshow": {
     "slide_type": ""
    },
    "tags": []
   },
   "outputs": [],
   "source": [
    "S = {'FF', 'FM', 'MF', 'MM'}  # Possible observations\n",
    "\n",
    "# We define the following subsets of S\n",
    "\n",
    "A = no_males = {'FF'}\n",
    "B = two_males = {'MM'}\n",
    "C = at_least_one_male = {'FM', 'MF', 'MM'}\n"
   ]
  },
  {
   "cell_type": "markdown",
   "id": "1334475e-5325-4719-9f5b-d79edd0faab5",
   "metadata": {},
   "source": [
    "Now, the operations"
   ]
  },
  {
   "cell_type": "code",
   "execution_count": 3,
   "id": "65b601a0-7be5-4d6a-89bb-7521e26e1edb",
   "metadata": {},
   "outputs": [],
   "source": [
    "AB = A.intersection(B)\n",
    "AUB = A.union(B)\n",
    "AC = A.intersection(C)\n",
    "AUC = A.union(C)\n",
    "BC = B.intersection(C)\n",
    "BUC = B.union(C)\n",
    "B_complement = S - B\n",
    "CB_complement = C.intersection(B_complement)"
   ]
  },
  {
   "cell_type": "markdown",
   "id": "f1c1b5d3-382e-49ed-9d6e-95eb1909d531",
   "metadata": {},
   "source": [
    "With the following results"
   ]
  },
  {
   "cell_type": "code",
   "execution_count": 4,
   "id": "71369624-45a3-4a88-9386-57c194b988da",
   "metadata": {},
   "outputs": [
    {
     "data": {
      "text/markdown": [
       "$A \\cap B =$ set()"
      ],
      "text/plain": [
       "<IPython.core.display.Markdown object>"
      ]
     },
     "metadata": {},
     "output_type": "display_data"
    },
    {
     "data": {
      "text/markdown": [
       "$A \\cup B =$ {'FF', 'MM'}"
      ],
      "text/plain": [
       "<IPython.core.display.Markdown object>"
      ]
     },
     "metadata": {},
     "output_type": "display_data"
    },
    {
     "data": {
      "text/markdown": [
       "$A \\cap C =$ set()"
      ],
      "text/plain": [
       "<IPython.core.display.Markdown object>"
      ]
     },
     "metadata": {},
     "output_type": "display_data"
    },
    {
     "data": {
      "text/markdown": [
       "$A \\cup C =$ {'FF', 'FM', 'MM', 'MF'}"
      ],
      "text/plain": [
       "<IPython.core.display.Markdown object>"
      ]
     },
     "metadata": {},
     "output_type": "display_data"
    },
    {
     "data": {
      "text/markdown": [
       "$B \\cap C =$ {'MM'}"
      ],
      "text/plain": [
       "<IPython.core.display.Markdown object>"
      ]
     },
     "metadata": {},
     "output_type": "display_data"
    },
    {
     "data": {
      "text/markdown": [
       "$B \\cup C =$ {'FM', 'MM', 'MF'}"
      ],
      "text/plain": [
       "<IPython.core.display.Markdown object>"
      ]
     },
     "metadata": {},
     "output_type": "display_data"
    },
    {
     "data": {
      "text/markdown": [
       "$C \\cap \\bar B =$ {'FM', 'MF'}"
      ],
      "text/plain": [
       "<IPython.core.display.Markdown object>"
      ]
     },
     "metadata": {},
     "output_type": "display_data"
    }
   ],
   "source": [
    "display(Markdown(f'$A \\\\cap B =$ {AB}'))\n",
    "display(Markdown(f'$A \\\\cup B =$ {AUB}'))\n",
    "display(Markdown(f'$A \\\\cap C =$ {AC}'))\n",
    "display(Markdown(f'$A \\\\cup C =$ {AUC}'))\n",
    "display(Markdown(f'$B \\\\cap C =$ {BC}'))\n",
    "display(Markdown(f'$B \\\\cup C =$ {BUC}'))\n",
    "display(Markdown(f'$C \\\\cap \\\\bar B =$ {CB_complement}'))"
   ]
  },
  {
   "cell_type": "markdown",
   "id": "5bcec704-e423-4010-8509-9290f3acb85f",
   "metadata": {},
   "source": [
    "## Problem 2.2"
   ]
  },
  {
   "cell_type": "markdown",
   "id": "35031c16-dcc1-4dcb-84c8-c210ac26724d",
   "metadata": {},
   "source": [
    "This is a simple problem:\n",
    "\n",
    "$A \\cap B$: both events occur\n",
    "\n",
    "$A \\cup B$: At least one event occur\n",
    "\n",
    "$ \\overline{(A \\cup B)}$: Neither occurs\n",
    "\n",
    "$ (A \\cap \\overline B) \\cup (B \\cap \\overline A) = (A \\cup B) \\backslash (A \\cap B)$ : Exactly one occurs\n"
   ]
  },
  {
   "cell_type": "markdown",
   "id": "4a88af0a",
   "metadata": {},
   "source": [
    "## Problem 2.3"
   ]
  },
  {
   "cell_type": "markdown",
   "id": "257bca9f",
   "metadata": {},
   "source": [
    "## Problem 2.4"
   ]
  },
  {
   "cell_type": "markdown",
   "id": "87e5b0b2",
   "metadata": {},
   "source": [
    "## Problem 2.5"
   ]
  },
  {
   "cell_type": "markdown",
   "id": "13db0dc0",
   "metadata": {},
   "source": [
    "## Problem 2.6"
   ]
  },
  {
   "cell_type": "markdown",
   "id": "eff6550c",
   "metadata": {},
   "source": [
    "## Problem 2.7"
   ]
  },
  {
   "cell_type": "markdown",
   "id": "51c78f24-cc3a-48d4-a3f2-5c877ca08146",
   "metadata": {},
   "source": [
    "## Problem 2.8"
   ]
  },
  {
   "cell_type": "code",
   "execution_count": null,
   "id": "9afe5e8f-56a5-4604-9801-a69315425488",
   "metadata": {},
   "outputs": [],
   "source": [
    "# Defining dice\n",
    "\n",
    "dice = {i for i in range(1,7)}"
   ]
  },
  {
   "cell_type": "code",
   "execution_count": null,
   "id": "a06658c1-2491-426a-9071-58a73191aa57",
   "metadata": {},
   "outputs": [],
   "source": [
    "# Defining S\n",
    "S = {(i, j) for i in dice for j in dice}"
   ]
  },
  {
   "cell_type": "markdown",
   "id": "35dcfd50-ff6c-462e-ae0b-8d058de3117d",
   "metadata": {},
   "source": [
    "A: The number in the second die is even\n",
    "\n",
    "B: The sum of the two numbers is even\n",
    "\n",
    "C: At least one number in the pair is odd"
   ]
  },
  {
   "cell_type": "code",
   "execution_count": null,
   "id": "2946de87-a08a-4f39-b297-248ea3027c8d",
   "metadata": {},
   "outputs": [],
   "source": [
    "A = set()\n",
    "B = set()\n",
    "C = set()\n",
    "for result in S:\n",
    "    if result[1] % 2 == 0:\n",
    "        A.add(result)\n",
    "    if (result[0] + result[1]) % 2 == 0:\n",
    "        B.add(result)\n",
    "    if (result[0] % 2 != 0) or (result[1] % 2 != 0):\n",
    "        C.add(result)\n",
    "\n",
    "display(Markdown(f'$A = $ {A}'))\n",
    "display(Markdown(f'$B = $ {B}'))\n",
    "display(Markdown(f'$C = $ {C}'))"
   ]
  },
  {
   "cell_type": "markdown",
   "id": "e2d6d7a3-ab09-4cfc-9f37-eb39ace6d7b0",
   "metadata": {},
   "source": [
    "Listing the sets"
   ]
  },
  {
   "cell_type": "code",
   "execution_count": null,
   "id": "ba2d04f5-0f27-42a1-a7e7-c2bb707e1c8e",
   "metadata": {},
   "outputs": [],
   "source": [
    "C_complement = S - C\n",
    "B_complement = S - B\n",
    "A_complement = S - A\n",
    "AB = A.intersection(B)\n",
    "AB_complement = A.intersection(B_complement)\n",
    "AUB_complement = A.union(B_complement)\n",
    "AC_complement = A_complement.intersection(C_complement)\n",
    "A_complementUB = A_complement.union(B)\n",
    "A_complementC = A_complement.intersection(C)"
   ]
  },
  {
   "cell_type": "code",
   "execution_count": null,
   "id": "3137cca1-29d3-4687-b2c9-be73e6d5efa1",
   "metadata": {},
   "outputs": [],
   "source": [
    "display(Markdown(f'$A=$ {A}'))\n",
    "display(Markdown(f'$\\\\overline C=${C_complement}'))\n",
    "display(Markdown(f'$A \\\\cap B = $ {AB}'))\n",
    "display(Markdown(f'$A \\\\cap \\\\overline B = $ {AB_complement}'))\n",
    "display(Markdown(f'$\\\\overline A \\\\cup B = $ {A_complementUB}'))\n",
    "display(Markdown(f'$\\\\overline A \\\\cap C = $ {A_complementC}'))"
   ]
  },
  {
   "cell_type": "markdown",
   "id": "32f712be",
   "metadata": {},
   "source": [
    "## Problem 2.9"
   ]
  },
  {
   "cell_type": "code",
   "execution_count": null,
   "id": "8e52db2e",
   "metadata": {},
   "outputs": [],
   "source": [
    "blood_type = {'A', 'B', 'AB', 'O'}\n",
    "Rh = {'+', '-'}\n",
    "\n",
    "# The sample space S\n",
    "S = {(bt+rh) for bt in blood_type for rh in Rh}\n",
    "display(Markdown(f'The sample space S is {S}'))"
   ]
  },
  {
   "cell_type": "markdown",
   "id": "8c86dc90",
   "metadata": {},
   "source": [
    "## Problem 2.10"
   ]
  },
  {
   "cell_type": "code",
   "execution_count": null,
   "id": "7522420e",
   "metadata": {},
   "outputs": [],
   "source": [
    "S = {'A', 'B', 'AB', 'O'}  # a)\n",
    "\n",
    "# b)\n",
    "P_A = 0.41  # P({'A'})\n",
    "P_B = 0.1  # P({'B'})\n",
    "P_AB = 0.04  # P({'AB'})\n",
    "P_O = 0.45  # P({'O'})\n",
    "\n",
    "# c)\n",
    "# Because a Caucasian only can has a unique blood type, we can sum the probabilities\n",
    "\n",
    "P = P_A + P_AB\n",
    "print(f'The probability that the person chosen at random has either type A or type AB is: {P}')"
   ]
  },
  {
   "cell_type": "markdown",
   "id": "bd601811",
   "metadata": {},
   "source": [
    "## Problem 2.11"
   ]
  },
  {
   "cell_type": "markdown",
   "id": "0096d351",
   "metadata": {},
   "source": [
    "For a)\n",
    "\n",
    "We have\n",
    "\n",
    "$S = E_1 \\cup E_2 \\cup ... \\cup E_5$\n",
    "\n",
    "So\n",
    "\n",
    "$P(S) = P(E_1 \\cup E_2 \\cup ... \\cup E_5)$\n",
    "\n",
    "Considering $P(E_4) = 2P(E_5)$\n",
    "\n",
    "Then\n",
    "\n",
    "$1 = 0.15 + 0.15 + 0.4 + 1.5P(E_4)$\n",
    "\n",
    "Hence\n",
    "\n",
    "$P(E_4) = 0.2$ and $P(E_5) = 0.1$\n",
    "\n",
    "For b\n",
    "\n",
    "$1 = 0.3 + 0.1 + P(E_3) + P(E_4) + P(E_5)$\n",
    "\n",
    "$0.6 = P(E_3) + P(E_4) + P(E_5)$ \n",
    "\n",
    "Because the remaining events are equally probable, we divide $0.6$ by three, so we have\n",
    "\n",
    "$P(E_i) = 0.2$ for $i = 3, 4, 5$"
   ]
  },
  {
   "cell_type": "markdown",
   "id": "93396548",
   "metadata": {},
   "source": [
    "## Problem 2.12"
   ]
  },
  {
   "cell_type": "markdown",
   "id": "98eb3366",
   "metadata": {},
   "source": [
    "The sample space is:\n",
    "\n",
    "$S = \\{ \\text{Right, Left, Straight ahead}\\}$\n",
    "\n",
    "Each event is mutually exclusive, so we have $1/3$ of probability for each\n",
    "\n",
    "The probability of turn is $P(\\{\\text{Right, Left}\\}) = 1/3 + 1/3 = 2/3 $"
   ]
  },
  {
   "cell_type": "markdown",
   "id": "7fe2284e",
   "metadata": {},
   "source": [
    "## Problem 2.13"
   ]
  },
  {
   "cell_type": "markdown",
   "id": "72e6a5cc",
   "metadata": {},
   "source": [
    "a) The sample space is:\n",
    "\n",
    "$S = \\{\\text{Very likely, Somewhat likely, Unlikely, Other}\\}\n",
    "$\n",
    "\n",
    "b) no, they are not equally likely\n",
    "\n",
    "$P(\\text{\\{Very likely\\}}) = 0.24$\n",
    "\n",
    "$P(\\text{\\{Somewhat likely\\}}) = 0.24$\n",
    "\n",
    "$P(\\text{\\{Unlikely\\}}) = 0.40$\n",
    "\n",
    "$P(\\text{\\{Other\\}}) = 0.12$\n",
    "\n",
    "c) The probability that the person selected finds it at least somewhat likely that the Air\n",
    "Force is withholding information about intelligent life on other planets is $0.24 + 0.24 = 0.48$"
   ]
  },
  {
   "cell_type": "markdown",
   "id": "5b3e6c73",
   "metadata": {},
   "source": [
    "## Problem 2.14"
   ]
  },
  {
   "cell_type": "markdown",
   "id": "6a09ada6",
   "metadata": {},
   "source": [
    "$P(\\text{\\{needs glasses\\}}) = P(\\text{\\{uses glasses for read\\}}) + P(\\text{\\{uses glasses but not for read\\}}) = 0.44 + 0.14 = 0.58$\n",
    "\n",
    "$P(\\text{needs glasses but does not use them.}) = 0.14$\n",
    "\n",
    "$P(\\text{uses glasses whether the glasses are needed or not}) = 0.44 + 0.02 = 0.46$"
   ]
  },
  {
   "cell_type": "markdown",
   "id": "9f5d26dd",
   "metadata": {},
   "source": [
    "## Problem 2.15"
   ]
  },
  {
   "cell_type": "markdown",
   "id": "b0d4db87",
   "metadata": {},
   "source": [
    "We have the four possible events so,\n",
    "\n",
    "$P(E_2) = 1 - 0.1 - 0.09 - .81 = 0.09$\n",
    "\n",
    "for b)\n",
    "\n",
    "The event 'on at least one of the two drillings' is made up by $E_1, E_2, E_3$ the probability that those event occur is $0.19$\n"
   ]
  },
  {
   "cell_type": "markdown",
   "id": "078a6312",
   "metadata": {},
   "source": [
    "## Problem 2.16"
   ]
  },
  {
   "cell_type": "markdown",
   "id": "c026c188",
   "metadata": {},
   "source": [
    "We have the following probabilities:\n",
    "\n",
    "$P(\\text{O+}) = 1/3$\n",
    "\n",
    "$P(\\text{O-}) = 1/15$\n",
    "\n",
    "$P(\\text{A+}) = 1/3$\n",
    "\n",
    "$P(\\text{A-}) = 1/16$\n",
    "\n",
    "a) $P(\\text{O+}) = 1/3$\n",
    "\n",
    "\n",
    "b) $P(\\text{O}) = P(\\text{O+})+P(\\text{O-}) = 1/3 + 1/15= 2/5$\n",
    "\n",
    "c) $P(\\text{A}) = P(\\text{A+})+P(\\text{A-}) = 19/48 $\n",
    "\n",
    "d) $P(\\text{neither A nor O}) = 1 - (2/5 + 19/48) = 49/240$"
   ]
  },
  {
   "cell_type": "markdown",
   "id": "0fddb42b",
   "metadata": {},
   "source": [
    "## Problem 2.17"
   ]
  },
  {
   "cell_type": "markdown",
   "id": "5f8f0554",
   "metadata": {},
   "source": [
    "We define the following events:\n",
    "\n",
    "$A$: defects in shafts\n",
    "\n",
    "$B$: defects in bushings\n",
    "\n",
    "$A \\cap B$: defects in both safts and bushings\n",
    "\n",
    "The event $A$ can be expressed as: $(A \\cap \\overline B) \\cup (A \\cap B)$\n",
    "\n",
    "where $(A \\cap \\overline B)$ represents defects in shafts **only** and has a probability of $0.08$\n",
    "\n",
    "The same happens for event B:\n",
    "\n",
    "$B = (B \\cap \\overline A) \\cup (A \\cap B)$\n",
    "\n",
    "Being $(B \\cap \\overline A)$ defects in bushings **only** and has a probability of $0.06$\n",
    "\n",
    "a) $P(B) = P(B \\cap \\overline A) + P(A \\cap B) = 0.06 + 0.02 = 0.8$\n",
    "\n",
    "b) $P(A \\cup B) = 0.08 + 0.06+ 0.02 = 0.16$ \n",
    "\n",
    "c) exactly one means: $P((A \\cap \\overline B) \\cup (B \\cap \\overline A)) = 0.08 + 0.06 = 0.14$\n",
    "\n",
    "Note that this is the same as $P(A \\cup B) - P(A \\cap B) = 0.16 - 0.02 = 0.14$\n",
    "\n",
    "d) neither type of defect is the complement of have some defect\n",
    "\n",
    "$P(\\overline {(A \\cup B)}) = 1 - P(A \\cup B) =1 - 0.16 = 0.84$"
   ]
  },
  {
   "cell_type": "markdown",
   "id": "465de70e",
   "metadata": {},
   "source": [
    "## Problem 2.18"
   ]
  },
  {
   "cell_type": "code",
   "execution_count": null,
   "id": "d5290f5a",
   "metadata": {},
   "outputs": [],
   "source": [
    "sample_space = {(c1, c2) for c1 in ['H', 'T'] for c2 in ['H', 'T']}\n",
    "\n",
    "display(Markdown(f'The sample space is {sample_space} '))"
   ]
  },
  {
   "cell_type": "markdown",
   "id": "869bb295",
   "metadata": {},
   "source": [
    "We assign to each element the probability of $1/4$, and yes, they are equally likely"
   ]
  },
  {
   "cell_type": "code",
   "execution_count": null,
   "id": "f93f8dd8",
   "metadata": {},
   "outputs": [],
   "source": [
    "# Event A: exactly one head\n",
    "# Event B: at least one head\n",
    "\n",
    "A = set()\n",
    "B = set()\n",
    "for e in sample_space:\n",
    "    if e.count('H') == 1:\n",
    "        A.add(e)\n",
    "    if e.count('H') >= 1:\n",
    "        B.add(e)\n",
    "\n",
    "display(Markdown(f'$A =$ {A}'))\n",
    "display(Markdown(f'$B =$ {B} '))\n",
    "\n"
   ]
  },
  {
   "cell_type": "code",
   "execution_count": null,
   "id": "aa35879f",
   "metadata": {},
   "outputs": [],
   "source": [
    "# P(A)\n",
    "\n",
    "P_A = len(A) / len(sample_space)\n",
    "P_B = len(B) / len(sample_space)\n",
    "P_AB = len(A.intersection(B)) / len(sample_space)\n",
    "P_AUB = len(A.union(B)) / len(sample_space)\n",
    "A_complement = sample_space - A\n",
    "P_Acomplement = len(A_complement)/len(sample_space)\n",
    "P_AcomplementUB = 1 - P_AUB + P_B\n",
    "\n",
    "display(Markdown(f'$P(A) =$ {P_A}'))\n",
    "display(Markdown(f'$P(B) =$ {P_B}'))\n",
    "display(Markdown(f'$P(A \\\\cap B) =$ {P_AB}'))\n",
    "display(Markdown(f'$P(A \\\\cup B) =$ {P_AUB}'))\n",
    "display(Markdown(f'$P(\\\\overline A \\\\cup B) =$ {P_AcomplementUB}'))"
   ]
  },
  {
   "cell_type": "markdown",
   "id": "ddab22b5",
   "metadata": {},
   "source": [
    "### Observations of problem 2.18"
   ]
  },
  {
   "cell_type": "markdown",
   "id": "7843e4f3",
   "metadata": {},
   "source": [
    "* When  we have $A \\subset B$, the following holds\n",
    "\n",
    "    * $P(A) \\leq P(B)$\n",
    "\n",
    "    * $P(A \\cup B) = P(B)$"
   ]
  },
  {
   "cell_type": "markdown",
   "id": "c4693caf",
   "metadata": {},
   "source": [
    "## Problem 2.19"
   ]
  },
  {
   "cell_type": "code",
   "execution_count": null,
   "id": "e46889a0",
   "metadata": {},
   "outputs": [],
   "source": [
    "vendors = {'V1', 'V2', 'V3'}\n",
    "\n",
    "sample_space = {(v1, v2) for v1 in vendors for v2 in vendors}\n",
    "\n",
    "display(Markdown(f'The sampe space is: {sample_space}'))"
   ]
  },
  {
   "cell_type": "markdown",
   "id": "d1a33287",
   "metadata": {},
   "source": [
    "The probability of each sample point is $1/9$"
   ]
  },
  {
   "cell_type": "code",
   "execution_count": null,
   "id": "cdc649fa",
   "metadata": {},
   "outputs": [],
   "source": [
    "# A: the vendor gets both orders\n",
    "# B: V2 gets at least one order\n",
    "\n",
    "A = set()\n",
    "B = set()\n",
    "\n",
    "for e in sample_space:\n",
    "    if e[0] == e[1]:\n",
    "        A.add(e)\n",
    "    if e.count('V2') >= 1:\n",
    "        B.add(e)\n",
    "\n",
    "display(Markdown(f'$A = $ {A}'))\n",
    "display(Markdown(f'$B = $ {B}'))"
   ]
  },
  {
   "cell_type": "code",
   "execution_count": null,
   "id": "04b4b885",
   "metadata": {},
   "outputs": [],
   "source": [
    "P_A = len(A) / len(sample_space)\n",
    "P_B = len(B) / len(sample_space)\n",
    "P_AUB = len(A.union(B))/len(sample_space)\n",
    "P_AB = len(A.intersection(B))/len(sample_space)\n",
    "\n",
    "display(Markdown(f'$P(A) = $ {P_A}'))\n",
    "display(Markdown(f'$P(B) = $ {P_B}'))\n",
    "display(Markdown(f'$P(A \\\\cup B) = $ {P_AUB}'))\n",
    "display(Markdown(f'$P(A \\\\cap B) = $ {P_AB}'))"
   ]
  },
  {
   "cell_type": "markdown",
   "id": "bd5858c6",
   "metadata": {},
   "source": [
    "## Problem 2.20"
   ]
  },
  {
   "cell_type": "markdown",
   "id": "73ddf609",
   "metadata": {},
   "source": [
    "$S = \\{ G, D_1, D_2\\}$\n",
    "\n",
    "Each has a probability of $1/3$\n",
    "\n",
    "Let $A$ the event of selection the curtain hiding the prize, so $P(A) = 1/3$\n",
    "\n",
    "I) $P(A) = 1/3$ \n",
    "\n",
    "II) She will obtain the other D\n",
    "\n",
    "III) If she selects in the first opportunity some D, and then the host opens the other D, if she changes the option, she will obtain G\n",
    "\n",
    "IV) The probability is $2/3$ because it is as we had two selections at first, remaining just one\n"
   ]
  },
  {
   "cell_type": "markdown",
   "id": "ab8aa1b3",
   "metadata": {},
   "source": [
    "## Problem 2.21"
   ]
  },
  {
   "cell_type": "markdown",
   "id": "b396d16d",
   "metadata": {},
   "source": [
    "Because we have prove that $(A \\cap B)$ and $(A \\cap \\overline B)$ are mutually exclusive, we use axiom 3:\n",
    "\n",
    "$P(A) = P(A \\cap B)+ P(A \\cap \\overline B)$ "
   ]
  },
  {
   "cell_type": "markdown",
   "id": "ccc3f484",
   "metadata": {},
   "source": [
    "## Problem 2.22\n",
    "\n",
    "Because we have prove that $B$ and $(A \\cap \\overline B)$ are mutually exclusive, we use axiom 3:\n",
    "\n",
    "$P(A) = P(B)+ P(A \\cap \\overline B)$ "
   ]
  },
  {
   "cell_type": "markdown",
   "id": "88b64e1b",
   "metadata": {},
   "source": [
    "## Problem 2.23\n",
    "\n",
    "Because $B$ is subset of $A$, the size of $B$ is less or equal to the size of $A$, hence $P(B) \\leq P(A)$\n",
    "\n",
    "Also, as all elements of $B$ are in $A$, when $B$ occurs, $A$ almost occurs. It is possible that $A$ occurs and $B$ not"
   ]
  },
  {
   "cell_type": "markdown",
   "id": "a43f60e3",
   "metadata": {},
   "source": [
    "## Problem 2.24\n",
    "\n"
   ]
  },
  {
   "cell_type": "code",
   "execution_count": null,
   "id": "9e1c6e54",
   "metadata": {},
   "outputs": [],
   "source": []
  },
  {
   "cell_type": "markdown",
   "id": "73423c8c",
   "metadata": {},
   "source": [
    "## problem 2.25"
   ]
  },
  {
   "cell_type": "markdown",
   "id": "e5beccfb",
   "metadata": {},
   "source": [
    "It is false. We can only have one Volkswagen car in n cars, and that is not $1/2$\n",
    "\n",
    "**Only if** we know that one half of the lot is volksvagen, the the probability is $1/2$"
   ]
  },
  {
   "cell_type": "markdown",
   "id": "bee36225",
   "metadata": {},
   "source": [
    "## Problem 2.26"
   ]
  },
  {
   "cell_type": "markdown",
   "id": "c2085d4b",
   "metadata": {},
   "source": []
  },
  {
   "cell_type": "markdown",
   "id": "5adfc698",
   "metadata": {},
   "source": [
    "## problem 2.33"
   ]
  },
  {
   "cell_type": "markdown",
   "id": "5bf23125",
   "metadata": {},
   "source": [
    "For A)"
   ]
  },
  {
   "cell_type": "code",
   "execution_count": 26,
   "id": "a176549d",
   "metadata": {},
   "outputs": [
    {
     "data": {
      "text/markdown": [
       "The sample space $S = $ {('D1', 'D2'), ('G4', 'D2'), ('G2', 'D2'), ('G3', 'D2'), ('G2', 'G4'), ('G3', 'G4'), ('G1', 'D2'), ('G2', 'G3'), ('G1', 'G4'), ('G2', 'D1'), ('G1', 'G3'), ('G4', 'D1'), ('G3', 'D1'), ('G1', 'G2'), ('G1', 'D1')}"
      ],
      "text/plain": [
       "<IPython.core.display.Markdown object>"
      ]
     },
     "metadata": {},
     "output_type": "display_data"
    }
   ],
   "source": [
    "# we know that 2 of the 6 electronic systems are defective, we construct the sample space\n",
    "\n",
    "e_systems = ['G1', 'G2', 'G3', 'G4', 'D1', 'D2']\n",
    "S = []\n",
    "\n",
    "for s in e_systems:\n",
    "    e_systems = e_systems[1:]\n",
    "    for s2 in e_systems:\n",
    "        S.append((s, s2))\n",
    "\n",
    "S = set(S)\n",
    "\n",
    "display(Markdown(f'The sample space $S = $ {S}'))"
   ]
  },
  {
   "cell_type": "code",
   "execution_count": 32,
   "id": "c3c64b5d",
   "metadata": {},
   "outputs": [
    {
     "data": {
      "text/markdown": [
       "The event $A = $ {('D1', 'D2'), ('G4', 'D2'), ('G2', 'D2'), ('G3', 'D2'), ('G1', 'D2'), ('G2', 'D1'), ('G4', 'D1'), ('G3', 'D1'), ('G1', 'D1')} "
      ],
      "text/plain": [
       "<IPython.core.display.Markdown object>"
      ]
     },
     "metadata": {},
     "output_type": "display_data"
    },
    {
     "data": {
      "text/markdown": [
       "The event $B = $ {('D1', 'D2')} "
      ],
      "text/plain": [
       "<IPython.core.display.Markdown object>"
      ]
     },
     "metadata": {},
     "output_type": "display_data"
    }
   ],
   "source": [
    "# A is the event at least one of the two systems will be defective\n",
    "# B is both are defective\n",
    "\n",
    "A = set()\n",
    "B = set()\n",
    "\n",
    "for s in S:\n",
    "    if 'D1' in s or 'D2' in s:\n",
    "        A.add(s)\n",
    "    if 'D1' in s and 'D2' in s:\n",
    "        B.add(s)\n",
    "\n",
    "display(Markdown(f'The event $A = $ {A} '))\n",
    "display(Markdown(f'The event $B = $ {B} '))"
   ]
  },
  {
   "cell_type": "code",
   "execution_count": 34,
   "id": "1542c1d0",
   "metadata": {},
   "outputs": [
    {
     "data": {
      "text/markdown": [
       "$P(A) = $ 0.6"
      ],
      "text/plain": [
       "<IPython.core.display.Markdown object>"
      ]
     },
     "metadata": {},
     "output_type": "display_data"
    },
    {
     "data": {
      "text/markdown": [
       "$P(B) = $ 0.06666666666666667"
      ],
      "text/plain": [
       "<IPython.core.display.Markdown object>"
      ]
     },
     "metadata": {},
     "output_type": "display_data"
    }
   ],
   "source": [
    "P_A = len(A) / len(S)\n",
    "P_B = len(B) / len(S)\n",
    "\n",
    "display(Markdown(f'$P(A) = $ {P_A}'))\n",
    "display(Markdown(f'$P(B) = $ {P_B}'))"
   ]
  },
  {
   "cell_type": "markdown",
   "id": "efc193d0",
   "metadata": {},
   "source": [
    "For B)"
   ]
  },
  {
   "cell_type": "markdown",
   "id": "91322c83",
   "metadata": {},
   "source": [
    "## Problem 2.34"
   ]
  },
  {
   "cell_type": "markdown",
   "id": "d4118492",
   "metadata": {},
   "source": [
    "## Problem 2.85"
   ]
  },
  {
   "cell_type": "markdown",
   "id": "175d84d8",
   "metadata": {},
   "source": [
    "First, we need to know that:\n",
    "\n",
    "$A \\cap \\overline B = A \\backslash (A \\cap B) = A - (A \\cap B) $ and those events are mutually exclusive\n",
    "\n",
    "So, we have $P(A|B) = P(A)$;  $A$ and $B$ are independents\n",
    "\n",
    "$$\n",
    "\n",
    "P(A|\\overline B) = \\frac{P(A \\cap \\overline B)}{P(\\overline B)} = \\frac{P(A - (A \\cap B))}{P(\\overline B)} = \\frac{P(A) - P(A)P(B)}{P(\\overline B)} = \\frac{P(A)P(\\overline B)}{P(\\overline B)} = P(A)\n",
    "\n",
    "$$ \n",
    "Hence, $A$ and $\\overline B$ are independent\n",
    "\n",
    "For the second we have:\n",
    "\n",
    "\n",
    "$$\n",
    "\\begin{align*}\n",
    "\n",
    "P(\\overline A | \\overline B) = \\frac{P(\\overline A \\cap \\overline B)}{\\overline B} = \\\\ &= \n",
    "\\frac{1 - P(A \\cup B)}{P(\\overline B)}\\\\& = \\frac{1-P(A)-P(B)+P(A)P(B)}{P(\\overline B)} \\\\ & = \\frac{P(B)[P(A) - 1]+ P(A)}{P(\\overline B)} \\\\& \\\\&= \\frac{-P(B)P(\\overline A) + P(\\overline A)}{P(\\overline B)} \\\\&= \\frac{P(\\overline A) P(\\overline B)}{P(\\overline B)} \\\\&= P(\\overline A)\n",
    "\n",
    "\\end{align*}\n",
    "$$"
   ]
  }
 ],
 "metadata": {
  "kernelspec": {
   "display_name": "Python 3 (ipykernel)",
   "language": "python",
   "name": "python3"
  },
  "language_info": {
   "codemirror_mode": {
    "name": "ipython",
    "version": 3
   },
   "file_extension": ".py",
   "mimetype": "text/x-python",
   "name": "python",
   "nbconvert_exporter": "python",
   "pygments_lexer": "ipython3",
   "version": "3.12.3"
  }
 },
 "nbformat": 4,
 "nbformat_minor": 5
}
