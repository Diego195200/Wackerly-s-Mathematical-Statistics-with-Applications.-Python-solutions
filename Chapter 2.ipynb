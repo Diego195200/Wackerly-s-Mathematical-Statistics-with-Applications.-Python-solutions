{
 "cells": [
  {
   "cell_type": "markdown",
   "id": "d8cae49b-26c9-42dc-a241-3989d5307a5c",
   "metadata": {},
   "source": [
    "# Chapter 2"
   ]
  },
  {
   "cell_type": "code",
   "execution_count": 1,
   "id": "b6fbbaf5-8a32-49f4-9840-d39093b7ccf4",
   "metadata": {},
   "outputs": [],
   "source": [
    "from IPython.display import display, Markdown"
   ]
  },
  {
   "cell_type": "markdown",
   "id": "ad56ea1e-86bb-4f47-9390-96c12c7f95b5",
   "metadata": {
    "jp-MarkdownHeadingCollapsed": true
   },
   "source": [
    "## Problem 2.1\n"
   ]
  },
  {
   "cell_type": "markdown",
   "id": "2942ce4d-d09f-4df2-bd87-d71ce49cd1c6",
   "metadata": {},
   "source": [
    "We have the following sets"
   ]
  },
  {
   "cell_type": "code",
   "execution_count": 2,
   "id": "8f9ee8a8-3281-4604-9538-b39b97083bb8",
   "metadata": {
    "editable": true,
    "slideshow": {
     "slide_type": ""
    },
    "tags": []
   },
   "outputs": [],
   "source": [
    "S = {'FF', 'FM', 'MF', 'MM'}  # Possible observations\n",
    "\n",
    "# We define the following subsets of S\n",
    "\n",
    "A = no_males = {'FF'}\n",
    "B = two_males = {'MM'}\n",
    "C = at_least_one_male = {'FM', 'MF', 'MM'}\n"
   ]
  },
  {
   "cell_type": "markdown",
   "id": "1334475e-5325-4719-9f5b-d79edd0faab5",
   "metadata": {},
   "source": [
    "Now, the operations"
   ]
  },
  {
   "cell_type": "code",
   "execution_count": 3,
   "id": "65b601a0-7be5-4d6a-89bb-7521e26e1edb",
   "metadata": {},
   "outputs": [],
   "source": [
    "AB = A.intersection(B)\n",
    "AUB = A.union(B)\n",
    "AC = A.intersection(C)\n",
    "AUC = A.union(C)\n",
    "BC = B.intersection(C)\n",
    "BUC = B.union(C)\n",
    "B_complement = S - B\n",
    "CB_complement = C.intersection(B_complement)"
   ]
  },
  {
   "cell_type": "markdown",
   "id": "f1c1b5d3-382e-49ed-9d6e-95eb1909d531",
   "metadata": {},
   "source": [
    "With the following results"
   ]
  },
  {
   "cell_type": "code",
   "execution_count": 4,
   "id": "71369624-45a3-4a88-9386-57c194b988da",
   "metadata": {},
   "outputs": [
    {
     "data": {
      "text/markdown": [
       "$A \\cap B =$ set()"
      ],
      "text/plain": [
       "<IPython.core.display.Markdown object>"
      ]
     },
     "metadata": {},
     "output_type": "display_data"
    },
    {
     "data": {
      "text/markdown": [
       "$A \\cup B =$ {'FF', 'MM'}"
      ],
      "text/plain": [
       "<IPython.core.display.Markdown object>"
      ]
     },
     "metadata": {},
     "output_type": "display_data"
    },
    {
     "data": {
      "text/markdown": [
       "$A \\cap C =$ set()"
      ],
      "text/plain": [
       "<IPython.core.display.Markdown object>"
      ]
     },
     "metadata": {},
     "output_type": "display_data"
    },
    {
     "data": {
      "text/markdown": [
       "$A \\cup C =$ {'FM', 'FF', 'MM', 'MF'}"
      ],
      "text/plain": [
       "<IPython.core.display.Markdown object>"
      ]
     },
     "metadata": {},
     "output_type": "display_data"
    },
    {
     "data": {
      "text/markdown": [
       "$B \\cap C =$ {'MM'}"
      ],
      "text/plain": [
       "<IPython.core.display.Markdown object>"
      ]
     },
     "metadata": {},
     "output_type": "display_data"
    },
    {
     "data": {
      "text/markdown": [
       "$B \\cup C =$ {'FM', 'MM', 'MF'}"
      ],
      "text/plain": [
       "<IPython.core.display.Markdown object>"
      ]
     },
     "metadata": {},
     "output_type": "display_data"
    },
    {
     "data": {
      "text/markdown": [
       "$C \\cap \\bar B =$ {'FM', 'MF'}"
      ],
      "text/plain": [
       "<IPython.core.display.Markdown object>"
      ]
     },
     "metadata": {},
     "output_type": "display_data"
    }
   ],
   "source": [
    "display(Markdown(f'$A \\\\cap B =$ {AB}'))\n",
    "display(Markdown(f'$A \\\\cup B =$ {AUB}'))\n",
    "display(Markdown(f'$A \\\\cap C =$ {AC}'))\n",
    "display(Markdown(f'$A \\\\cup C =$ {AUC}'))\n",
    "display(Markdown(f'$B \\\\cap C =$ {BC}'))\n",
    "display(Markdown(f'$B \\\\cup C =$ {BUC}'))\n",
    "display(Markdown(f'$C \\\\cap \\\\bar B =$ {CB_complement}'))"
   ]
  },
  {
   "cell_type": "markdown",
   "id": "5bcec704-e423-4010-8509-9290f3acb85f",
   "metadata": {},
   "source": [
    "## Problem 2.2"
   ]
  },
  {
   "cell_type": "markdown",
   "id": "35031c16-dcc1-4dcb-84c8-c210ac26724d",
   "metadata": {},
   "source": [
    "This is a simple problem:\n",
    "\n",
    "$A \\cap B$: both events occur\n",
    "\n",
    "$A \\cup B$: At least one event occur\n",
    "\n",
    "$ \\overline{(A \\cup B)}$: Neither occurs\n",
    "\n",
    "$ (A \\cap \\overline B) \\cup (B \\cap \\overline A) = (A \\cup B) \\backslash (A \\cap B)$ : Exactly one occurs\n"
   ]
  },
  {
   "cell_type": "markdown",
   "id": "4a88af0a",
   "metadata": {},
   "source": [
    "## Problem 2.3"
   ]
  },
  {
   "cell_type": "markdown",
   "id": "257bca9f",
   "metadata": {},
   "source": [
    "## Problem 2.4"
   ]
  },
  {
   "cell_type": "markdown",
   "id": "87e5b0b2",
   "metadata": {},
   "source": [
    "## Problem 2.5"
   ]
  },
  {
   "cell_type": "markdown",
   "id": "13db0dc0",
   "metadata": {},
   "source": [
    "## Problem 2.6"
   ]
  },
  {
   "cell_type": "markdown",
   "id": "eff6550c",
   "metadata": {},
   "source": [
    "## Problem 2.7"
   ]
  },
  {
   "cell_type": "markdown",
   "id": "51c78f24-cc3a-48d4-a3f2-5c877ca08146",
   "metadata": {},
   "source": [
    "## Problem 2.8"
   ]
  },
  {
   "cell_type": "code",
   "execution_count": 2,
   "id": "9afe5e8f-56a5-4604-9801-a69315425488",
   "metadata": {},
   "outputs": [],
   "source": [
    "# Defining dice\n",
    "\n",
    "dice = {i for i in range(1,7)}"
   ]
  },
  {
   "cell_type": "code",
   "execution_count": 4,
   "id": "a06658c1-2491-426a-9071-58a73191aa57",
   "metadata": {},
   "outputs": [],
   "source": [
    "# Defining S\n",
    "S = {(i, j) for i in dice for j in dice}"
   ]
  },
  {
   "cell_type": "markdown",
   "id": "35dcfd50-ff6c-462e-ae0b-8d058de3117d",
   "metadata": {},
   "source": [
    "A: The number in the second die is even\n",
    "\n",
    "B: The sum of the two numbers is even\n",
    "\n",
    "C: At least one number in the pair is odd"
   ]
  },
  {
   "cell_type": "code",
   "execution_count": 6,
   "id": "2946de87-a08a-4f39-b297-248ea3027c8d",
   "metadata": {},
   "outputs": [
    {
     "data": {
      "text/markdown": [
       "$A = $ {(4, 4), (6, 2), (2, 4), (1, 2), (3, 4), (5, 4), (4, 6), (6, 4), (4, 2), (1, 4), (2, 6), (5, 6), (3, 6), (2, 2), (6, 6), (1, 6), (3, 2), (5, 2)}"
      ],
      "text/plain": [
       "<IPython.core.display.Markdown object>"
      ]
     },
     "metadata": {},
     "output_type": "display_data"
    },
    {
     "data": {
      "text/markdown": [
       "$B = $ {(4, 4), (6, 2), (2, 4), (5, 5), (1, 5), (3, 1), (1, 1), (4, 6), (6, 6), (5, 1), (4, 2), (6, 4), (3, 3), (2, 6), (2, 2), (5, 3), (1, 3), (3, 5)}"
      ],
      "text/plain": [
       "<IPython.core.display.Markdown object>"
      ]
     },
     "metadata": {},
     "output_type": "display_data"
    },
    {
     "data": {
      "text/markdown": [
       "$C = $ {(3, 4), (4, 3), (3, 1), (5, 4), (5, 1), (1, 6), (2, 5), (1, 3), (6, 5), (4, 5), (3, 3), (5, 6), (3, 6), (5, 3), (1, 2), (2, 1), (1, 5), (6, 1), (3, 2), (4, 1), (3, 5), (5, 2), (5, 5), (1, 1), (1, 4), (2, 3), (6, 3)}"
      ],
      "text/plain": [
       "<IPython.core.display.Markdown object>"
      ]
     },
     "metadata": {},
     "output_type": "display_data"
    }
   ],
   "source": [
    "A = set()\n",
    "B = set()\n",
    "C = set()\n",
    "for result in S:\n",
    "    if result[1] % 2 == 0:\n",
    "        A.add(result)\n",
    "    if (result[0] + result[1]) % 2 == 0:\n",
    "        B.add(result)\n",
    "    if (result[0] % 2 != 0) or (result[1] % 2 != 0):\n",
    "        C.add(result)\n",
    "\n",
    "display(Markdown(f'$A = $ {A}'))\n",
    "display(Markdown(f'$B = $ {B}'))\n",
    "display(Markdown(f'$C = $ {C}'))"
   ]
  },
  {
   "cell_type": "markdown",
   "id": "e2d6d7a3-ab09-4cfc-9f37-eb39ace6d7b0",
   "metadata": {},
   "source": [
    "Listing the sets"
   ]
  },
  {
   "cell_type": "code",
   "execution_count": 7,
   "id": "ba2d04f5-0f27-42a1-a7e7-c2bb707e1c8e",
   "metadata": {},
   "outputs": [],
   "source": [
    "C_complement = S - C\n",
    "B_complement = S - B\n",
    "A_complement = S - A\n",
    "AB = A.intersection(B)\n",
    "AB_complement = A.intersection(B_complement)\n",
    "AUB_complement = A.union(B_complement)\n",
    "AC_complement = A_complement.intersection(C_complement)\n",
    "A_complementUB = A_complement.union(B)\n",
    "A_complementC = A_complement.intersection(C)"
   ]
  },
  {
   "cell_type": "code",
   "execution_count": 8,
   "id": "3137cca1-29d3-4687-b2c9-be73e6d5efa1",
   "metadata": {},
   "outputs": [
    {
     "data": {
      "text/markdown": [
       "$A=$ {(4, 4), (6, 2), (2, 4), (1, 2), (3, 4), (5, 4), (4, 6), (6, 4), (4, 2), (1, 4), (2, 6), (5, 6), (3, 6), (2, 2), (6, 6), (1, 6), (3, 2), (5, 2)}"
      ],
      "text/plain": [
       "<IPython.core.display.Markdown object>"
      ]
     },
     "metadata": {},
     "output_type": "display_data"
    },
    {
     "data": {
      "text/markdown": [
       "$\\overline C=${(4, 4), (6, 2), (2, 4), (4, 6), (6, 4), (4, 2), (2, 6), (2, 2), (6, 6)}"
      ],
      "text/plain": [
       "<IPython.core.display.Markdown object>"
      ]
     },
     "metadata": {},
     "output_type": "display_data"
    },
    {
     "data": {
      "text/markdown": [
       "$A \\cap B = $ {(4, 4), (6, 2), (2, 4), (4, 6), (6, 4), (4, 2), (2, 6), (2, 2), (6, 6)}"
      ],
      "text/plain": [
       "<IPython.core.display.Markdown object>"
      ]
     },
     "metadata": {},
     "output_type": "display_data"
    },
    {
     "data": {
      "text/markdown": [
       "$A \\cap \\overline B = $ {(1, 2), (3, 4), (5, 4), (1, 4), (5, 6), (3, 6), (1, 6), (3, 2), (5, 2)}"
      ],
      "text/plain": [
       "<IPython.core.display.Markdown object>"
      ]
     },
     "metadata": {},
     "output_type": "display_data"
    },
    {
     "data": {
      "text/markdown": [
       "$\\overline A \\cup B = $ {(2, 4), (2, 1), (4, 3), (3, 1), (1, 5), (6, 1), (4, 6), (6, 6), (5, 1), (6, 4), (2, 2), (2, 5), (4, 1), (1, 3), (3, 5), (4, 4), (6, 2), (5, 5), (6, 5), (1, 1), (4, 2), (2, 3), (4, 5), (3, 3), (2, 6), (5, 3), (6, 3)}"
      ],
      "text/plain": [
       "<IPython.core.display.Markdown object>"
      ]
     },
     "metadata": {},
     "output_type": "display_data"
    },
    {
     "data": {
      "text/markdown": [
       "$\\overline A \\cap C = $ {(1, 3), (5, 5), (2, 1), (6, 5), (4, 3), (3, 1), (1, 5), (6, 1), (1, 1), (5, 1), (2, 3), (4, 5), (3, 3), (2, 5), (5, 3), (6, 3), (4, 1), (3, 5)}"
      ],
      "text/plain": [
       "<IPython.core.display.Markdown object>"
      ]
     },
     "metadata": {},
     "output_type": "display_data"
    }
   ],
   "source": [
    "display(Markdown(f'$A=$ {A}'))\n",
    "display(Markdown(f'$\\\\overline C=${C_complement}'))\n",
    "display(Markdown(f'$A \\\\cap B = $ {AB}'))\n",
    "display(Markdown(f'$A \\\\cap \\\\overline B = $ {AB_complement}'))\n",
    "display(Markdown(f'$\\\\overline A \\\\cup B = $ {A_complementUB}'))\n",
    "display(Markdown(f'$\\\\overline A \\\\cap C = $ {A_complementC}'))"
   ]
  },
  {
   "cell_type": "markdown",
   "id": "32f712be",
   "metadata": {},
   "source": [
    "## Problem 2.9"
   ]
  },
  {
   "cell_type": "code",
   "execution_count": 17,
   "id": "8e52db2e",
   "metadata": {},
   "outputs": [
    {
     "data": {
      "text/markdown": [
       "The sample space S is {'B-', 'O+', 'O-', 'A+', 'AB-', 'AB+', 'A-', 'B+'}"
      ],
      "text/plain": [
       "<IPython.core.display.Markdown object>"
      ]
     },
     "metadata": {},
     "output_type": "display_data"
    }
   ],
   "source": [
    "blood_type = {'A', 'B', 'AB', 'O'}\n",
    "Rh = {'+', '-'}\n",
    "\n",
    "# The sample space S\n",
    "S = {(bt+rh) for bt in blood_type for rh in Rh}\n",
    "display(Markdown(f'The sample space S is {S}'))"
   ]
  },
  {
   "cell_type": "markdown",
   "id": "8c86dc90",
   "metadata": {},
   "source": [
    "## Problem 2.10"
   ]
  },
  {
   "cell_type": "code",
   "execution_count": 19,
   "id": "7522420e",
   "metadata": {},
   "outputs": [
    {
     "name": "stdout",
     "output_type": "stream",
     "text": [
      "The probability that the person chosen at random has either type A or type AB is: 0.44999999999999996\n"
     ]
    }
   ],
   "source": [
    "S = {'A', 'B', 'AB', 'O'}  # a)\n",
    "\n",
    "# b)\n",
    "P_A = 0.41  # P({'A'})\n",
    "P_B = 0.1  # P({'B'})\n",
    "P_AB = 0.04  # P({'AB'})\n",
    "P_O = 0.45  # P({'O'})\n",
    "\n",
    "# c)\n",
    "# Because a Caucasian only can has a unique blood type, we can sum the probabilities\n",
    "\n",
    "P = P_A + P_AB\n",
    "print(f'The probability that the person chosen at random has either type A or type AB is: {P}')"
   ]
  },
  {
   "cell_type": "markdown",
   "id": "bd601811",
   "metadata": {},
   "source": [
    "## Problem 2.11"
   ]
  },
  {
   "cell_type": "markdown",
   "id": "0096d351",
   "metadata": {},
   "source": [
    "For a)\n",
    "\n",
    "We have\n",
    "\n",
    "$S = E_1 \\cup E_2 \\cup ... \\cup E_5$\n",
    "\n",
    "So\n",
    "\n",
    "$P(S) = P(E_1 \\cup E_2 \\cup ... \\cup E_5)$\n",
    "\n",
    "Considering $P(E_4) = 2P(E_5)$\n",
    "\n",
    "Then\n",
    "\n",
    "$1 = 0.15 + 0.15 + 0.4 + 1.5P(E_4)$\n",
    "\n",
    "Hence\n",
    "\n",
    "$P(E_4) = 0.2$ and $P(E_5) = 0.1$\n",
    "\n",
    "For b\n",
    "\n",
    "$1 = 0.3 + 0.1 + P(E_3) + P(E_4) + P(E_5)$\n",
    "\n",
    "$0.6 = P(E_3) + P(E_4) + P(E_5)$ \n",
    "\n",
    "Because the remaining events are equally probable, we divide $0.6$ by three, so we have\n",
    "\n",
    "$P(E_i) = 0.2$ for $i = 3, 4, 5$"
   ]
  },
  {
   "cell_type": "markdown",
   "id": "93396548",
   "metadata": {},
   "source": [
    "## Problem 2.12"
   ]
  },
  {
   "cell_type": "markdown",
   "id": "98eb3366",
   "metadata": {},
   "source": [
    "The sample space is:\n",
    "\n",
    "$S = \\{ \\text{Right, Left, Straight ahead}\\}$\n",
    "\n",
    "Each event is mutually exclusive, so we have $1/3$ of probability for each\n",
    "\n",
    "The probability of turn is $P(\\{\\text{Right, Left}\\}) = 1/3 + 1/3 = 2/3 $"
   ]
  },
  {
   "cell_type": "markdown",
   "id": "7fe2284e",
   "metadata": {},
   "source": [
    "## Problem 2.13"
   ]
  },
  {
   "cell_type": "markdown",
   "id": "72e6a5cc",
   "metadata": {},
   "source": [
    "a) The sample space is:\n",
    "\n",
    "$S = \\{\\text{Very likely, Somewhat likely, Unlikely, Other}\\}\n",
    "$\n",
    "\n",
    "b) no, they are not equally likely\n",
    "\n",
    "$P(\\text{\\{Very likely\\}}) = 0.24$\n",
    "\n",
    "$P(\\text{\\{Somewhat likely\\}}) = 0.24$\n",
    "\n",
    "$P(\\text{\\{Unlikely\\}}) = 0.40$\n",
    "\n",
    "$P(\\text{\\{Other\\}}) = 0.12$\n",
    "\n",
    "c) The probability that the person selected finds it at least somewhat likely that the Air\n",
    "Force is withholding information about intelligent life on other planets is $0.24 + 0.24 = 0.48$"
   ]
  },
  {
   "cell_type": "markdown",
   "id": "5b3e6c73",
   "metadata": {},
   "source": [
    "## Problem 2.14"
   ]
  },
  {
   "cell_type": "markdown",
   "id": "6a09ada6",
   "metadata": {},
   "source": [
    "$P(\\text{\\{needs glasses\\}}) = P(\\text{\\{uses glasses for read\\}}) + P(\\text{\\{uses glasses but not for read\\}}) = 0.44 + 0.14 = 0.58$\n",
    "\n",
    "$P(\\text{needs glasses but does not use them.}) = 0.14$\n",
    "\n",
    "$P(\\text{uses glasses whether the glasses are needed or not}) = 0.44 + 0.02 = 0.46$"
   ]
  },
  {
   "cell_type": "markdown",
   "id": "9f5d26dd",
   "metadata": {},
   "source": [
    "## Problem 2.15"
   ]
  },
  {
   "cell_type": "markdown",
   "id": "b0d4db87",
   "metadata": {},
   "source": []
  },
  {
   "cell_type": "code",
   "execution_count": null,
   "id": "5f8f0554",
   "metadata": {},
   "outputs": [],
   "source": []
  }
 ],
 "metadata": {
  "kernelspec": {
   "display_name": "Python 3 (ipykernel)",
   "language": "python",
   "name": "python3"
  },
  "language_info": {
   "codemirror_mode": {
    "name": "ipython",
    "version": 3
   },
   "file_extension": ".py",
   "mimetype": "text/x-python",
   "name": "python",
   "nbconvert_exporter": "python",
   "pygments_lexer": "ipython3",
   "version": "3.12.2"
  }
 },
 "nbformat": 4,
 "nbformat_minor": 5
}
